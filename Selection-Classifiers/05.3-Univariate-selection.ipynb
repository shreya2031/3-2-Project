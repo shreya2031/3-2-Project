{
 "cells": [
  {
   "cell_type": "markdown",
   "metadata": {},
   "source": [
    "## Univariate feature selection\n",
    "\n",
    "Univariate feature selection works by selecting the best features based on univariate statistical tests (ANOVA). The methods estimate the degree of linear dependency between two random variables. In this case, any of the predictor variables and the target. \n",
    "\n",
    "ANOVA assumes a linear relationship between the feature and the target and that the variables follow a Gaussian distribution. If this is not true, the result of this test may not be useful.\n",
    "\n",
    "These may not always be the case for the variables in your dataset, so if looking to implement these procedure, you will need to corroborate these assumptions.\n",
    "\n",
    "I will demonstrate how to select features based on univariate tests using sklearn with a regression and classification dataset.\n",
    "\n",
    "For the sake of the demonstration, I will assume that the variables show a linear relationship with the target and that they are normally distributed."
   ]
  },
  {
   "cell_type": "code",
   "execution_count": 80,
   "metadata": {},
   "outputs": [],
   "source": [
    "import pandas as pd\n",
    "import numpy as np\n",
    "\n",
    "import matplotlib.pyplot as plt\n",
    "\n",
    "from sklearn.model_selection import train_test_split\n",
    "\n",
    "# to determine the p-values with anova\n",
    "from sklearn.feature_selection import f_classif, f_regression\n",
    "from sklearn.metrics import roc_auc_score, f1_score, precision_score,recall_score, accuracy_score\n",
    "# to select features\n",
    "from sklearn.feature_selection import SelectKBest, SelectPercentile"
   ]
  },
  {
   "cell_type": "markdown",
   "metadata": {},
   "source": [
    "## Classification"
   ]
  },
  {
   "cell_type": "code",
   "execution_count": 132,
   "metadata": {},
   "outputs": [
    {
     "data": {
      "text/plain": [
       "(201, 36)"
      ]
     },
     "execution_count": 132,
     "metadata": {},
     "output_type": "execute_result"
    }
   ],
   "source": [
    "# load dataset\n",
    "data = pd.read_csv('C:/Users/RAJENDRA REDDY/Downloads/Genre4.csv')\n",
    "data.shape"
   ]
  },
  {
   "cell_type": "code",
   "execution_count": 126,
   "metadata": {},
   "outputs": [
    {
     "data": {
      "text/html": [
       "<div>\n",
       "<style scoped>\n",
       "    .dataframe tbody tr th:only-of-type {\n",
       "        vertical-align: middle;\n",
       "    }\n",
       "\n",
       "    .dataframe tbody tr th {\n",
       "        vertical-align: top;\n",
       "    }\n",
       "\n",
       "    .dataframe thead th {\n",
       "        text-align: right;\n",
       "    }\n",
       "</style>\n",
       "<table border=\"1\" class=\"dataframe\">\n",
       "  <thead>\n",
       "    <tr style=\"text-align: right;\">\n",
       "      <th></th>\n",
       "      <th>chroma_stft_min</th>\n",
       "      <th>chroma_stft_max</th>\n",
       "      <th>chroma_cqt_min</th>\n",
       "      <th>chroma_cqt_max</th>\n",
       "      <th>chroma_cens_min</th>\n",
       "      <th>chroma_cens_max</th>\n",
       "      <th>melspectogram_min</th>\n",
       "      <th>melspectogram_max</th>\n",
       "      <th>mfcc_min</th>\n",
       "      <th>mfcc_max</th>\n",
       "      <th>...</th>\n",
       "      <th>zero_crossing_rate_min</th>\n",
       "      <th>zero_crossing_rate_max</th>\n",
       "      <th>tempogram_min</th>\n",
       "      <th>tempogram_max</th>\n",
       "      <th>delta_mfcc_min</th>\n",
       "      <th>delta_mfcc_max</th>\n",
       "      <th>mel_to_stft_min</th>\n",
       "      <th>mel_to_stft_max</th>\n",
       "      <th>class</th>\n",
       "      <th>song</th>\n",
       "    </tr>\n",
       "  </thead>\n",
       "  <tbody>\n",
       "    <tr>\n",
       "      <th>0</th>\n",
       "      <td>0.001252</td>\n",
       "      <td>1</td>\n",
       "      <td>0.028087</td>\n",
       "      <td>1</td>\n",
       "      <td>0.0</td>\n",
       "      <td>0.797361</td>\n",
       "      <td>4.850000e-11</td>\n",
       "      <td>1608.1553</td>\n",
       "      <td>-313.89453</td>\n",
       "      <td>158.97940</td>\n",
       "      <td>...</td>\n",
       "      <td>0.020020</td>\n",
       "      <td>0.506348</td>\n",
       "      <td>-3.180000e-16</td>\n",
       "      <td>1</td>\n",
       "      <td>-26.059307</td>\n",
       "      <td>44.195885</td>\n",
       "      <td>0</td>\n",
       "      <td>12.531638</td>\n",
       "      <td>1</td>\n",
       "      <td>Sab Qatl Ho Ke Tere_shortened.wav</td>\n",
       "    </tr>\n",
       "    <tr>\n",
       "      <th>1</th>\n",
       "      <td>0.001236</td>\n",
       "      <td>1</td>\n",
       "      <td>0.049233</td>\n",
       "      <td>1</td>\n",
       "      <td>0.0</td>\n",
       "      <td>0.710122</td>\n",
       "      <td>4.100000e-07</td>\n",
       "      <td>4487.7754</td>\n",
       "      <td>-211.82755</td>\n",
       "      <td>155.29317</td>\n",
       "      <td>...</td>\n",
       "      <td>0.013672</td>\n",
       "      <td>0.575684</td>\n",
       "      <td>-3.120000e-16</td>\n",
       "      <td>1</td>\n",
       "      <td>-20.617844</td>\n",
       "      <td>25.392746</td>\n",
       "      <td>0</td>\n",
       "      <td>16.328250</td>\n",
       "      <td>1</td>\n",
       "      <td>Sabab Tayana Kuthali Sangu_shortened.wav</td>\n",
       "    </tr>\n",
       "    <tr>\n",
       "      <th>2</th>\n",
       "      <td>0.000164</td>\n",
       "      <td>1</td>\n",
       "      <td>0.009047</td>\n",
       "      <td>1</td>\n",
       "      <td>0.0</td>\n",
       "      <td>0.772206</td>\n",
       "      <td>1.300000e-08</td>\n",
       "      <td>1190.8945</td>\n",
       "      <td>-370.22098</td>\n",
       "      <td>230.16904</td>\n",
       "      <td>...</td>\n",
       "      <td>0.017090</td>\n",
       "      <td>0.085449</td>\n",
       "      <td>-4.120000e-16</td>\n",
       "      <td>1</td>\n",
       "      <td>-16.024027</td>\n",
       "      <td>19.057417</td>\n",
       "      <td>0</td>\n",
       "      <td>11.388083</td>\n",
       "      <td>1</td>\n",
       "      <td>Sabhi Andaz E Husn Pyare Hain (pyar)_shortened...</td>\n",
       "    </tr>\n",
       "    <tr>\n",
       "      <th>3</th>\n",
       "      <td>0.001763</td>\n",
       "      <td>1</td>\n",
       "      <td>0.034657</td>\n",
       "      <td>1</td>\n",
       "      <td>0.0</td>\n",
       "      <td>0.670851</td>\n",
       "      <td>2.150000e-08</td>\n",
       "      <td>2198.9436</td>\n",
       "      <td>-284.60513</td>\n",
       "      <td>200.24591</td>\n",
       "      <td>...</td>\n",
       "      <td>0.023926</td>\n",
       "      <td>0.507812</td>\n",
       "      <td>-3.580000e-16</td>\n",
       "      <td>1</td>\n",
       "      <td>-31.472502</td>\n",
       "      <td>32.328354</td>\n",
       "      <td>0</td>\n",
       "      <td>13.543420</td>\n",
       "      <td>1</td>\n",
       "      <td>Sabko Maloom Hai Main Sharabi Nahin_shortened.wav</td>\n",
       "    </tr>\n",
       "    <tr>\n",
       "      <th>4</th>\n",
       "      <td>0.001074</td>\n",
       "      <td>1</td>\n",
       "      <td>0.017001</td>\n",
       "      <td>1</td>\n",
       "      <td>0.0</td>\n",
       "      <td>0.755667</td>\n",
       "      <td>1.680000e-08</td>\n",
       "      <td>2149.3972</td>\n",
       "      <td>-344.30637</td>\n",
       "      <td>203.72919</td>\n",
       "      <td>...</td>\n",
       "      <td>0.017090</td>\n",
       "      <td>0.705078</td>\n",
       "      <td>-2.810000e-16</td>\n",
       "      <td>1</td>\n",
       "      <td>-28.704193</td>\n",
       "      <td>35.110043</td>\n",
       "      <td>0</td>\n",
       "      <td>14.551949</td>\n",
       "      <td>1</td>\n",
       "      <td>Sach Bolta Hoon Main_shortened.wav</td>\n",
       "    </tr>\n",
       "  </tbody>\n",
       "</table>\n",
       "<p>5 rows × 36 columns</p>\n",
       "</div>"
      ],
      "text/plain": [
       "   chroma_stft_min  chroma_stft_max  chroma_cqt_min  chroma_cqt_max  \\\n",
       "0         0.001252                1        0.028087               1   \n",
       "1         0.001236                1        0.049233               1   \n",
       "2         0.000164                1        0.009047               1   \n",
       "3         0.001763                1        0.034657               1   \n",
       "4         0.001074                1        0.017001               1   \n",
       "\n",
       "   chroma_cens_min  chroma_cens_max  melspectogram_min  melspectogram_max  \\\n",
       "0              0.0         0.797361       4.850000e-11          1608.1553   \n",
       "1              0.0         0.710122       4.100000e-07          4487.7754   \n",
       "2              0.0         0.772206       1.300000e-08          1190.8945   \n",
       "3              0.0         0.670851       2.150000e-08          2198.9436   \n",
       "4              0.0         0.755667       1.680000e-08          2149.3972   \n",
       "\n",
       "    mfcc_min   mfcc_max  ...  zero_crossing_rate_min  zero_crossing_rate_max  \\\n",
       "0 -313.89453  158.97940  ...                0.020020                0.506348   \n",
       "1 -211.82755  155.29317  ...                0.013672                0.575684   \n",
       "2 -370.22098  230.16904  ...                0.017090                0.085449   \n",
       "3 -284.60513  200.24591  ...                0.023926                0.507812   \n",
       "4 -344.30637  203.72919  ...                0.017090                0.705078   \n",
       "\n",
       "   tempogram_min  tempogram_max  delta_mfcc_min  delta_mfcc_max  \\\n",
       "0  -3.180000e-16              1      -26.059307       44.195885   \n",
       "1  -3.120000e-16              1      -20.617844       25.392746   \n",
       "2  -4.120000e-16              1      -16.024027       19.057417   \n",
       "3  -3.580000e-16              1      -31.472502       32.328354   \n",
       "4  -2.810000e-16              1      -28.704193       35.110043   \n",
       "\n",
       "   mel_to_stft_min  mel_to_stft_max  class  \\\n",
       "0                0        12.531638      1   \n",
       "1                0        16.328250      1   \n",
       "2                0        11.388083      1   \n",
       "3                0        13.543420      1   \n",
       "4                0        14.551949      1   \n",
       "\n",
       "                                                song  \n",
       "0                  Sab Qatl Ho Ke Tere_shortened.wav  \n",
       "1           Sabab Tayana Kuthali Sangu_shortened.wav  \n",
       "2  Sabhi Andaz E Husn Pyare Hain (pyar)_shortened...  \n",
       "3  Sabko Maloom Hai Main Sharabi Nahin_shortened.wav  \n",
       "4                 Sach Bolta Hoon Main_shortened.wav  \n",
       "\n",
       "[5 rows x 36 columns]"
      ]
     },
     "execution_count": 126,
     "metadata": {},
     "output_type": "execute_result"
    }
   ],
   "source": [
    "data.head()"
   ]
  },
  {
   "cell_type": "markdown",
   "metadata": {},
   "source": [
    "**Important**\n",
    "\n",
    "In all feature selection procedures, it is good practice to select the features by examining only the training set. And this is to avoid overfit."
   ]
  },
  {
   "cell_type": "code",
   "execution_count": 133,
   "metadata": {},
   "outputs": [],
   "source": [
    "# separate train and test sets\n",
    "X_train, X_test, y_train, y_test = train_test_split(\n",
    "    data.drop(labels=['class','song'], axis=1),\n",
    "    data['class'],\n",
    "    test_size=0.3,\n",
    "    random_state=0)"
   ]
  },
  {
   "cell_type": "markdown",
   "metadata": {},
   "source": [
    "### Perform univariate anova"
   ]
  },
  {
   "cell_type": "code",
   "execution_count": 134,
   "metadata": {
    "scrolled": true
   },
   "outputs": [
    {
     "name": "stderr",
     "output_type": "stream",
     "text": [
      "c:\\users\\rajendra reddy\\appdata\\local\\programs\\python\\python37\\lib\\site-packages\\sklearn\\feature_selection\\_univariate_selection.py:110: RuntimeWarning: invalid value encountered in true_divide\n",
      "  msb = ssbn / float(dfbn)\n"
     ]
    },
    {
     "data": {
      "text/plain": [
       "(array([nan, nan, nan, nan, nan, nan, nan, nan, nan, nan, nan, nan, nan,\n",
       "        nan, nan, nan, nan, nan, nan, nan, nan, nan, nan, nan, nan, nan,\n",
       "        nan, nan, nan, nan, nan, nan, nan, nan]),\n",
       " array([nan, nan, nan, nan, nan, nan, nan, nan, nan, nan, nan, nan, nan,\n",
       "        nan, nan, nan, nan, nan, nan, nan, nan, nan, nan, nan, nan, nan,\n",
       "        nan, nan, nan, nan, nan, nan, nan, nan]))"
      ]
     },
     "execution_count": 134,
     "metadata": {},
     "output_type": "execute_result"
    }
   ],
   "source": [
    "# calculate the univariate statistical measure between\n",
    "# each of the variables and the target\n",
    "\n",
    "# similarly to chi2, the output is one array with f-scores\n",
    "# and one array with the pvalues\n",
    "\n",
    "univariate = f_classif(X_train, y_train)\n",
    "\n",
    "univariate"
   ]
  },
  {
   "cell_type": "code",
   "execution_count": 135,
   "metadata": {
    "scrolled": false
   },
   "outputs": [
    {
     "data": {
      "text/plain": [
       "<matplotlib.axes._subplots.AxesSubplot at 0x18f6f426408>"
      ]
     },
     "execution_count": 135,
     "metadata": {},
     "output_type": "execute_result"
    },
    {
     "data": {
      "image/png": "[encoded data removed]",
      "text/plain": [
       "<Figure size 1440x432 with 1 Axes>"
      ]
     },
     "metadata": {
      "needs_background": "light"
     },
     "output_type": "display_data"
    }
   ],
   "source": [
    "# 1) let's capture the pvalues in a pandas series\n",
    "# 2) add the variable names in the index\n",
    "# 3) sort the features based on their anova pvalues\n",
    "# 4) and make a var plot\n",
    "\n",
    "univariate = pd.Series(univariate[1])\n",
    "univariate.index = X_train.columns\n",
    "univariate.sort_values(ascending=False).plot.bar(figsize=(20, 6))"
   ]
  },
  {
   "cell_type": "markdown",
   "metadata": {},
   "source": [
    "The smaller the p_value the more predictive the feature is.\n",
    "\n",
    "Features on the left of the plot are very bad at predicting the target. The most predictive features are on the right of the plot.\n",
    "\n",
    "**How can we select features based on the anova p-values?**\n",
    "\n",
    "There are a few ways in which this can be done:\n",
    "\n",
    "- Select top k features, where k is an arbitrary number of features\n",
    "\n",
    "- Select features in the top n percentile, where n is again an arbitrary number\n",
    "\n",
    "- Select all features below a certain threshold, arbitrarily decided.\n",
    "\n",
    "Scikit-learn transformer **SelectKBest**, allows us to automatically select the top k features, based of any statistical value, including Anova. It will select those with the lowest pvalues.\n",
    "\n",
    "Sklearn's **SelectPercentile** allows us to select the features in the top percentile of any statistical value, including the anova.\n",
    "\n",
    "Alternatively, if we want to select features based on a pvalue threshold, we can do it manually.\n",
    "\n",
    "### Select top 10 features based of univariate anova"
   ]
  },
  {
   "cell_type": "code",
   "execution_count": 136,
   "metadata": {},
   "outputs": [
    {
     "name": "stderr",
     "output_type": "stream",
     "text": [
      "c:\\users\\rajendra reddy\\appdata\\local\\programs\\python\\python37\\lib\\site-packages\\sklearn\\feature_selection\\_univariate_selection.py:110: RuntimeWarning: invalid value encountered in true_divide\n",
      "  msb = ssbn / float(dfbn)\n"
     ]
    },
    {
     "data": {
      "text/plain": [
       "Index(['tonnetz_min', 'tonnetz_max', 'zero_crossing_rate_min',\n",
       "       'zero_crossing_rate_max', 'tempogram_min', 'tempogram_max',\n",
       "       'delta_mfcc_min', 'delta_mfcc_max', 'mel_to_stft_min',\n",
       "       'mel_to_stft_max'],\n",
       "      dtype='object')"
      ]
     },
     "execution_count": 136,
     "metadata": {},
     "output_type": "execute_result"
    }
   ],
   "source": [
    "# select the top 10 features\n",
    "sel_ = SelectKBest(f_classif, k=10).fit(X_train, y_train)\n",
    "\n",
    "# display selected feature names\n",
    "X_train.columns[sel_.get_support()]\n",
    "selected_features = X_train.columns[sel_.get_support()]\n",
    "selected_features"
   ]
  },
  {
   "cell_type": "code",
   "execution_count": 87,
   "metadata": {},
   "outputs": [],
   "source": [
    "trainy, testy = y_train, y_test\n",
    "# define outlier detection model\n",
    "trainX = X_train[selected_features]\n",
    "testX =  X_test[selected_features]"
   ]
  },
  {
   "cell_type": "code",
   "execution_count": null,
   "metadata": {},
   "outputs": [],
   "source": []
  },
  {
   "cell_type": "code",
   "execution_count": null,
   "metadata": {},
   "outputs": [],
   "source": [
    "\n"
   ]
  },
  {
   "cell_type": "code",
   "execution_count": 106,
   "metadata": {},
   "outputs": [
    {
     "name": "stdout",
     "output_type": "stream",
     "text": [
      "Accuracy Score: 0.972\n",
      "F1 Score: 0.986\n",
      "Precision Score: 0.972\n",
      "Recall Score: 0.972\n"
     ]
    }
   ],
   "source": [
    "from sklearn.datasets import make_classification\n",
    "from sklearn.metrics import f1_score\n",
    "from sklearn.svm import OneClassSVM\n",
    "from sklearn.metrics import precision_score, recall_score, accuracy_score\n",
    "# generate dataset\n",
    "\n",
    "# split into train/test sets\n",
    "\n",
    "model = OneClassSVM(gamma='scale', nu=0.02)\n",
    "# fit on majority class\n",
    "\n",
    "model.fit(trainX)\n",
    "# detect outliers in the test set\n",
    "yhat = model.predict(trainX)\n",
    "# mark inliers 1, outliers -1\n",
    "\n",
    "# calculate score\n",
    "\n",
    "print('Accuracy Score: %.3f' % accuracy_score(y_train, yhat))\n",
    "print('F1 Score: %.3f' % f1_score(y_train, yhat, pos_label=1))\n",
    "print('Precision Score: %.3f' % precision_score(y_train, yhat, average='micro'))\n",
    "print('Recall Score: %.3f' % recall_score(y_train, yhat, average='micro'))"
   ]
  },
  {
   "cell_type": "code",
   "execution_count": 105,
   "metadata": {},
   "outputs": [
    {
     "name": "stdout",
     "output_type": "stream",
     "text": [
      "Accuracy Score: 0.894\n",
      "F1 Score: 0.944\n",
      "Precision Score: 0.894\n",
      "Recall Score: 0.894\n"
     ]
    },
    {
     "name": "stderr",
     "output_type": "stream",
     "text": [
      "c:\\users\\rajendra reddy\\appdata\\local\\programs\\python\\python37\\lib\\site-packages\\sklearn\\covariance\\_robust_covariance.py:647: UserWarning: The covariance matrix associated to your dataset is not full rank\n",
      "  warnings.warn(\"The covariance matrix associated to your dataset \"\n"
     ]
    }
   ],
   "source": [
    "# elliptic envelope for imbalanced classification\n",
    "from sklearn.datasets import make_classification\n",
    "from sklearn.model_selection import train_test_split\n",
    "from sklearn.metrics import f1_score\n",
    "from sklearn.covariance import EllipticEnvelope\n",
    "# generate dataset\n",
    "\n",
    "# define outlier detection model\n",
    "model = EllipticEnvelope(contamination=0.1)\n",
    "# fit on majority class\n",
    "\n",
    "model.fit(trainX)\n",
    "# detect outliers in the test set\n",
    "yhat = model.predict(trainX)\n",
    "# mark inliers 1, outliers -1\n",
    "\n",
    "# calculate score\n",
    "score = f1_score(y_train, yhat, pos_label=1)\n",
    "print('Accuracy Score: %.3f' % accuracy_score(y_train, yhat))\n",
    "print('F1 Score: %.3f' % f1_score(y_train, yhat, pos_label=1))\n",
    "print('Precision Score: %.3f' % precision_score(y_train, yhat, average='micro'))\n",
    "print('Recall Score: %.3f' % recall_score(y_train, yhat, average='micro'))"
   ]
  },
  {
   "cell_type": "code",
   "execution_count": 101,
   "metadata": {},
   "outputs": [
    {
     "name": "stdout",
     "output_type": "stream",
     "text": [
      "Accuracy Score: 0.958\n",
      "F1 Score: 0.978\n",
      "Precision Score: 0.958\n",
      "Recall Score: 0.958\n"
     ]
    }
   ],
   "source": [
    "# isolation forest for imbalanced classification\n",
    "from sklearn.datasets import make_classification\n",
    "from sklearn.model_selection import train_test_split\n",
    "from sklearn.metrics import f1_score\n",
    "from sklearn.ensemble import IsolationForest\n",
    "# generate dataset\n",
    "\n",
    "# split into train/test sets\n",
    "\n",
    "# define outlier detection model\n",
    "model = IsolationForest(contamination=0.05)\n",
    "# fit on majority class\n",
    "\n",
    "model.fit(trainX)\n",
    "# detect outliers in the test set\n",
    "yhat = lof_predict(model,testX,trainX)\n",
    "# mark inliers 1, outliers -1\n",
    "\n",
    "# calculate score\n",
    "score = f1_score(trainy, yhat, pos_label=1)\n",
    "print('Accuracy Score: %.3f' % accuracy_score(y_train, yhat))\n",
    "print('F1 Score: %.3f' % f1_score(y_train, yhat, pos_label=1))\n",
    "print('Precision Score: %.3f' % precision_score(y_train, yhat, average='micro'))\n",
    "print('Recall Score: %.3f' % recall_score(y_train, yhat, average='micro'))"
   ]
  },
  {
   "cell_type": "code",
   "execution_count": 104,
   "metadata": {},
   "outputs": [
    {
     "name": "stdout",
     "output_type": "stream",
     "text": [
      "Accuracy Score: 0.993\n",
      "F1 Score: 0.996\n",
      "Precision Score: 0.993\n",
      "Recall Score: 0.993\n"
     ]
    }
   ],
   "source": [
    "# local outlier factor for imbalanced classification\n",
    "from numpy import vstack\n",
    "from sklearn.datasets import make_classification\n",
    "from sklearn.model_selection import train_test_split\n",
    "from sklearn.metrics import f1_score\n",
    "from sklearn.neighbors import LocalOutlierFactor\n",
    "\n",
    "# make a prediction with a lof model\n",
    "def lof_predict(model, trainX, testX):\n",
    "\t# create one large dataset\n",
    "\tcomposite = vstack((trainX, testX))\n",
    "\t# make prediction on composite dataset\n",
    "\tyhat = model.fit_predict(composite)\n",
    "\t# return just the predictions on the test set\n",
    "\treturn yhat[len(trainX):]\n",
    "\n",
    "# generate dataset\n",
    "\n",
    "# split into train/test sets\n",
    "\n",
    "# define outlier detection model\n",
    "model = LocalOutlierFactor(contamination=0.01)\n",
    "# get examples for just the majority class\n",
    "\n",
    "# detect outliers in the test set\n",
    "yhat = lof_predict(model,testX,trainX)\n",
    "# mark inliers 1, outliers -1\n",
    "\n",
    "# calculate score\n",
    "score = f1_score(trainy, yhat, pos_label=1)\n",
    "\n",
    "print('Accuracy Score: %.3f' % accuracy_score(y_train, yhat))\n",
    "print('F1 Score: %.3f' % score)\n",
    "print('Precision Score: %.3f' % precision_score(y_train, yhat, average='micro'))\n",
    "print('Recall Score: %.3f' % recall_score(y_train, yhat, average='micro'))"
   ]
  },
  {
   "cell_type": "code",
   "execution_count": 71,
   "metadata": {},
   "outputs": [
    {
     "name": "stdout",
     "output_type": "stream",
     "text": [
      "Precision Score: 1.000\n",
      "Recall Score: 1.000\n"
     ]
    }
   ],
   "source": [
    "X_train = X_train[selected_features]\n",
    "X_test =  X_test[selected_features]\n",
    "from sklearn.tree import DecisionTreeClassifier # Import Decision Tree Classifier\n",
    "from sklearn.preprocessing import StandardScaler\n",
    "from sklearn.linear_model import LogisticRegression\n",
    "from sklearn.neighbors import KNeighborsClassifier\n",
    "from sklearn.svm import SVC\n",
    "from sklearn.ensemble import BaggingClassifier\n",
    "from sklearn.naive_bayes import GaussianNB\n",
    "from sklearn.ensemble import RandomForestClassifier\n",
    "from sklearn.neighbors import NeighborhoodComponentsAnalysis\n",
    "from sklearn.pipeline import Pipeline\n",
    "from sklearn.ensemble import GradientBoostingClassifier\n",
    "from sklearn.neural_network import MLPClassifier\n",
    "from sklearn.preprocessing import StandardScaler\n",
    "from sklearn.pipeline import make_pipeline\n",
    "from sklearn.ensemble import ExtraTreesClassifier\n",
    "from sklearn.ensemble import StackingClassifier\n",
    "from sklearn.svm import LinearSVC\n",
    "from sklearn.datasets import make_classification\n",
    "\n",
    "from sklearn.model_selection import GridSearchCV\n",
    "from sklearn.ensemble import VotingClassifier\n",
    "from sklearn.ensemble import ExtraTreesClassifier\n",
    "from sklearn.experimental import enable_hist_gradient_boosting\n",
    "from sklearn.ensemble import HistGradientBoostingClassifier\n",
    "from sklearn.ensemble import GradientBoostingClassifier\n",
    "from sklearn.model_selection import cross_val_score\n",
    "from sklearn.ensemble import AdaBoostClassifier\n",
    "\n",
    "clf = AdaBoostClassifier(n_estimators=100)\n",
    "clf = clf.fit(X_train,y_train)\n",
    "y_pred = clf.predict_proba(X_train)\n",
    "\n",
    "\n",
    "print('Precision Score: %.3f' % precision_score(y_train, y_pred, average='weighted'))\n",
    "                                               \n",
    "print('Recall Score: %.3f' % recall_score(y_train, y_pred, average=None))\n",
    "\n"
   ]
  },
  {
   "cell_type": "code",
   "execution_count": 11,
   "metadata": {},
   "outputs": [
    {
     "name": "stdout",
     "output_type": "stream",
     "text": [
      "Ada Boost roc-auc: 0.7971539240048061\n",
      "GradientBoostingClassifier roc-auc: 0.9566183389363416\n",
      "HistGradientBoostingClassifier roc-auc: 1.0\n",
      "ExtraTreesClassifier roc-auc: 1.0\n"
     ]
    },
    {
     "name": "stderr",
     "output_type": "stream",
     "text": [
      "c:\\users\\rajendra reddy\\appdata\\local\\programs\\python\\python37\\lib\\site-packages\\sklearn\\linear_model\\_logistic.py:765: ConvergenceWarning: lbfgs failed to converge (status=1):\n",
      "STOP: TOTAL NO. of ITERATIONS REACHED LIMIT.\n",
      "\n",
      "Increase the number of iterations (max_iter) or scale the data as shown in:\n",
      "    https://scikit-learn.org/stable/modules/preprocessing.html\n",
      "Please also refer to the documentation for alternative solver options:\n",
      "    https://scikit-learn.org/stable/modules/linear_model.html#logistic-regression\n",
      "  extra_warning_msg=_LOGISTIC_SOLVER_CONVERGENCE_MSG)\n",
      "c:\\users\\rajendra reddy\\appdata\\local\\programs\\python\\python37\\lib\\site-packages\\sklearn\\linear_model\\_logistic.py:765: ConvergenceWarning: lbfgs failed to converge (status=1):\n",
      "STOP: TOTAL NO. of ITERATIONS REACHED LIMIT.\n",
      "\n",
      "Increase the number of iterations (max_iter) or scale the data as shown in:\n",
      "    https://scikit-learn.org/stable/modules/preprocessing.html\n",
      "Please also refer to the documentation for alternative solver options:\n",
      "    https://scikit-learn.org/stable/modules/linear_model.html#logistic-regression\n",
      "  extra_warning_msg=_LOGISTIC_SOLVER_CONVERGENCE_MSG)\n",
      "c:\\users\\rajendra reddy\\appdata\\local\\programs\\python\\python37\\lib\\site-packages\\sklearn\\linear_model\\_logistic.py:765: ConvergenceWarning: lbfgs failed to converge (status=1):\n",
      "STOP: TOTAL NO. of ITERATIONS REACHED LIMIT.\n",
      "\n",
      "Increase the number of iterations (max_iter) or scale the data as shown in:\n",
      "    https://scikit-learn.org/stable/modules/preprocessing.html\n",
      "Please also refer to the documentation for alternative solver options:\n",
      "    https://scikit-learn.org/stable/modules/linear_model.html#logistic-regression\n",
      "  extra_warning_msg=_LOGISTIC_SOLVER_CONVERGENCE_MSG)\n",
      "c:\\users\\rajendra reddy\\appdata\\local\\programs\\python\\python37\\lib\\site-packages\\sklearn\\linear_model\\_logistic.py:765: ConvergenceWarning: lbfgs failed to converge (status=1):\n",
      "STOP: TOTAL NO. of ITERATIONS REACHED LIMIT.\n",
      "\n",
      "Increase the number of iterations (max_iter) or scale the data as shown in:\n",
      "    https://scikit-learn.org/stable/modules/preprocessing.html\n",
      "Please also refer to the documentation for alternative solver options:\n",
      "    https://scikit-learn.org/stable/modules/linear_model.html#logistic-regression\n",
      "  extra_warning_msg=_LOGISTIC_SOLVER_CONVERGENCE_MSG)\n",
      "c:\\users\\rajendra reddy\\appdata\\local\\programs\\python\\python37\\lib\\site-packages\\sklearn\\linear_model\\_logistic.py:765: ConvergenceWarning: lbfgs failed to converge (status=1):\n",
      "STOP: TOTAL NO. of ITERATIONS REACHED LIMIT.\n",
      "\n",
      "Increase the number of iterations (max_iter) or scale the data as shown in:\n",
      "    https://scikit-learn.org/stable/modules/preprocessing.html\n",
      "Please also refer to the documentation for alternative solver options:\n",
      "    https://scikit-learn.org/stable/modules/linear_model.html#logistic-regression\n",
      "  extra_warning_msg=_LOGISTIC_SOLVER_CONVERGENCE_MSG)\n",
      "c:\\users\\rajendra reddy\\appdata\\local\\programs\\python\\python37\\lib\\site-packages\\sklearn\\linear_model\\_logistic.py:765: ConvergenceWarning: lbfgs failed to converge (status=1):\n",
      "STOP: TOTAL NO. of ITERATIONS REACHED LIMIT.\n",
      "\n",
      "Increase the number of iterations (max_iter) or scale the data as shown in:\n",
      "    https://scikit-learn.org/stable/modules/preprocessing.html\n",
      "Please also refer to the documentation for alternative solver options:\n",
      "    https://scikit-learn.org/stable/modules/linear_model.html#logistic-regression\n",
      "  extra_warning_msg=_LOGISTIC_SOLVER_CONVERGENCE_MSG)\n",
      "c:\\users\\rajendra reddy\\appdata\\local\\programs\\python\\python37\\lib\\site-packages\\sklearn\\linear_model\\_logistic.py:765: ConvergenceWarning: lbfgs failed to converge (status=1):\n",
      "STOP: TOTAL NO. of ITERATIONS REACHED LIMIT.\n",
      "\n",
      "Increase the number of iterations (max_iter) or scale the data as shown in:\n",
      "    https://scikit-learn.org/stable/modules/preprocessing.html\n",
      "Please also refer to the documentation for alternative solver options:\n",
      "    https://scikit-learn.org/stable/modules/linear_model.html#logistic-regression\n",
      "  extra_warning_msg=_LOGISTIC_SOLVER_CONVERGENCE_MSG)\n",
      "c:\\users\\rajendra reddy\\appdata\\local\\programs\\python\\python37\\lib\\site-packages\\sklearn\\linear_model\\_logistic.py:765: ConvergenceWarning: lbfgs failed to converge (status=1):\n",
      "STOP: TOTAL NO. of ITERATIONS REACHED LIMIT.\n",
      "\n",
      "Increase the number of iterations (max_iter) or scale the data as shown in:\n",
      "    https://scikit-learn.org/stable/modules/preprocessing.html\n",
      "Please also refer to the documentation for alternative solver options:\n",
      "    https://scikit-learn.org/stable/modules/linear_model.html#logistic-regression\n",
      "  extra_warning_msg=_LOGISTIC_SOLVER_CONVERGENCE_MSG)\n",
      "c:\\users\\rajendra reddy\\appdata\\local\\programs\\python\\python37\\lib\\site-packages\\sklearn\\linear_model\\_logistic.py:765: ConvergenceWarning: lbfgs failed to converge (status=1):\n",
      "STOP: TOTAL NO. of ITERATIONS REACHED LIMIT.\n",
      "\n",
      "Increase the number of iterations (max_iter) or scale the data as shown in:\n",
      "    https://scikit-learn.org/stable/modules/preprocessing.html\n",
      "Please also refer to the documentation for alternative solver options:\n",
      "    https://scikit-learn.org/stable/modules/linear_model.html#logistic-regression\n",
      "  extra_warning_msg=_LOGISTIC_SOLVER_CONVERGENCE_MSG)\n",
      "c:\\users\\rajendra reddy\\appdata\\local\\programs\\python\\python37\\lib\\site-packages\\sklearn\\linear_model\\_logistic.py:765: ConvergenceWarning: lbfgs failed to converge (status=1):\n",
      "STOP: TOTAL NO. of ITERATIONS REACHED LIMIT.\n",
      "\n",
      "Increase the number of iterations (max_iter) or scale the data as shown in:\n",
      "    https://scikit-learn.org/stable/modules/preprocessing.html\n",
      "Please also refer to the documentation for alternative solver options:\n",
      "    https://scikit-learn.org/stable/modules/linear_model.html#logistic-regression\n",
      "  extra_warning_msg=_LOGISTIC_SOLVER_CONVERGENCE_MSG)\n",
      "c:\\users\\rajendra reddy\\appdata\\local\\programs\\python\\python37\\lib\\site-packages\\sklearn\\linear_model\\_logistic.py:765: ConvergenceWarning: lbfgs failed to converge (status=1):\n",
      "STOP: TOTAL NO. of ITERATIONS REACHED LIMIT.\n",
      "\n",
      "Increase the number of iterations (max_iter) or scale the data as shown in:\n",
      "    https://scikit-learn.org/stable/modules/preprocessing.html\n",
      "Please also refer to the documentation for alternative solver options:\n",
      "    https://scikit-learn.org/stable/modules/linear_model.html#logistic-regression\n",
      "  extra_warning_msg=_LOGISTIC_SOLVER_CONVERGENCE_MSG)\n",
      "c:\\users\\rajendra reddy\\appdata\\local\\programs\\python\\python37\\lib\\site-packages\\sklearn\\linear_model\\_logistic.py:765: ConvergenceWarning: lbfgs failed to converge (status=1):\n",
      "STOP: TOTAL NO. of ITERATIONS REACHED LIMIT.\n",
      "\n",
      "Increase the number of iterations (max_iter) or scale the data as shown in:\n",
      "    https://scikit-learn.org/stable/modules/preprocessing.html\n",
      "Please also refer to the documentation for alternative solver options:\n",
      "    https://scikit-learn.org/stable/modules/linear_model.html#logistic-regression\n",
      "  extra_warning_msg=_LOGISTIC_SOLVER_CONVERGENCE_MSG)\n",
      "c:\\users\\rajendra reddy\\appdata\\local\\programs\\python\\python37\\lib\\site-packages\\sklearn\\linear_model\\_logistic.py:765: ConvergenceWarning: lbfgs failed to converge (status=1):\n",
      "STOP: TOTAL NO. of ITERATIONS REACHED LIMIT.\n",
      "\n",
      "Increase the number of iterations (max_iter) or scale the data as shown in:\n",
      "    https://scikit-learn.org/stable/modules/preprocessing.html\n",
      "Please also refer to the documentation for alternative solver options:\n",
      "    https://scikit-learn.org/stable/modules/linear_model.html#logistic-regression\n",
      "  extra_warning_msg=_LOGISTIC_SOLVER_CONVERGENCE_MSG)\n",
      "c:\\users\\rajendra reddy\\appdata\\local\\programs\\python\\python37\\lib\\site-packages\\sklearn\\linear_model\\_logistic.py:765: ConvergenceWarning: lbfgs failed to converge (status=1):\n",
      "STOP: TOTAL NO. of ITERATIONS REACHED LIMIT.\n",
      "\n",
      "Increase the number of iterations (max_iter) or scale the data as shown in:\n",
      "    https://scikit-learn.org/stable/modules/preprocessing.html\n",
      "Please also refer to the documentation for alternative solver options:\n",
      "    https://scikit-learn.org/stable/modules/linear_model.html#logistic-regression\n",
      "  extra_warning_msg=_LOGISTIC_SOLVER_CONVERGENCE_MSG)\n",
      "c:\\users\\rajendra reddy\\appdata\\local\\programs\\python\\python37\\lib\\site-packages\\sklearn\\linear_model\\_logistic.py:765: ConvergenceWarning: lbfgs failed to converge (status=1):\n",
      "STOP: TOTAL NO. of ITERATIONS REACHED LIMIT.\n",
      "\n",
      "Increase the number of iterations (max_iter) or scale the data as shown in:\n",
      "    https://scikit-learn.org/stable/modules/preprocessing.html\n",
      "Please also refer to the documentation for alternative solver options:\n",
      "    https://scikit-learn.org/stable/modules/linear_model.html#logistic-regression\n",
      "  extra_warning_msg=_LOGISTIC_SOLVER_CONVERGENCE_MSG)\n",
      "c:\\users\\rajendra reddy\\appdata\\local\\programs\\python\\python37\\lib\\site-packages\\sklearn\\linear_model\\_logistic.py:765: ConvergenceWarning: lbfgs failed to converge (status=1):\n",
      "STOP: TOTAL NO. of ITERATIONS REACHED LIMIT.\n",
      "\n",
      "Increase the number of iterations (max_iter) or scale the data as shown in:\n",
      "    https://scikit-learn.org/stable/modules/preprocessing.html\n",
      "Please also refer to the documentation for alternative solver options:\n",
      "    https://scikit-learn.org/stable/modules/linear_model.html#logistic-regression\n",
      "  extra_warning_msg=_LOGISTIC_SOLVER_CONVERGENCE_MSG)\n",
      "c:\\users\\rajendra reddy\\appdata\\local\\programs\\python\\python37\\lib\\site-packages\\sklearn\\linear_model\\_logistic.py:765: ConvergenceWarning: lbfgs failed to converge (status=1):\n",
      "STOP: TOTAL NO. of ITERATIONS REACHED LIMIT.\n",
      "\n",
      "Increase the number of iterations (max_iter) or scale the data as shown in:\n",
      "    https://scikit-learn.org/stable/modules/preprocessing.html\n",
      "Please also refer to the documentation for alternative solver options:\n",
      "    https://scikit-learn.org/stable/modules/linear_model.html#logistic-regression\n",
      "  extra_warning_msg=_LOGISTIC_SOLVER_CONVERGENCE_MSG)\n",
      "c:\\users\\rajendra reddy\\appdata\\local\\programs\\python\\python37\\lib\\site-packages\\sklearn\\linear_model\\_logistic.py:765: ConvergenceWarning: lbfgs failed to converge (status=1):\n",
      "STOP: TOTAL NO. of ITERATIONS REACHED LIMIT.\n",
      "\n",
      "Increase the number of iterations (max_iter) or scale the data as shown in:\n",
      "    https://scikit-learn.org/stable/modules/preprocessing.html\n",
      "Please also refer to the documentation for alternative solver options:\n",
      "    https://scikit-learn.org/stable/modules/linear_model.html#logistic-regression\n",
      "  extra_warning_msg=_LOGISTIC_SOLVER_CONVERGENCE_MSG)\n",
      "c:\\users\\rajendra reddy\\appdata\\local\\programs\\python\\python37\\lib\\site-packages\\sklearn\\linear_model\\_logistic.py:765: ConvergenceWarning: lbfgs failed to converge (status=1):\n",
      "STOP: TOTAL NO. of ITERATIONS REACHED LIMIT.\n",
      "\n",
      "Increase the number of iterations (max_iter) or scale the data as shown in:\n",
      "    https://scikit-learn.org/stable/modules/preprocessing.html\n",
      "Please also refer to the documentation for alternative solver options:\n",
      "    https://scikit-learn.org/stable/modules/linear_model.html#logistic-regression\n",
      "  extra_warning_msg=_LOGISTIC_SOLVER_CONVERGENCE_MSG)\n",
      "c:\\users\\rajendra reddy\\appdata\\local\\programs\\python\\python37\\lib\\site-packages\\sklearn\\linear_model\\_logistic.py:765: ConvergenceWarning: lbfgs failed to converge (status=1):\n",
      "STOP: TOTAL NO. of ITERATIONS REACHED LIMIT.\n",
      "\n",
      "Increase the number of iterations (max_iter) or scale the data as shown in:\n",
      "    https://scikit-learn.org/stable/modules/preprocessing.html\n",
      "Please also refer to the documentation for alternative solver options:\n",
      "    https://scikit-learn.org/stable/modules/linear_model.html#logistic-regression\n",
      "  extra_warning_msg=_LOGISTIC_SOLVER_CONVERGENCE_MSG)\n",
      "c:\\users\\rajendra reddy\\appdata\\local\\programs\\python\\python37\\lib\\site-packages\\sklearn\\linear_model\\_logistic.py:765: ConvergenceWarning: lbfgs failed to converge (status=1):\n",
      "STOP: TOTAL NO. of ITERATIONS REACHED LIMIT.\n",
      "\n",
      "Increase the number of iterations (max_iter) or scale the data as shown in:\n",
      "    https://scikit-learn.org/stable/modules/preprocessing.html\n",
      "Please also refer to the documentation for alternative solver options:\n",
      "    https://scikit-learn.org/stable/modules/linear_model.html#logistic-regression\n",
      "  extra_warning_msg=_LOGISTIC_SOLVER_CONVERGENCE_MSG)\n"
     ]
    },
    {
     "name": "stdout",
     "output_type": "stream",
     "text": [
      "Voting Classifier roc-auc: 0.9638015976466996\n",
      "Decision Tree Accuracy: 0.9910355861774723\n",
      "BaggingClassifier roc-auc: 0.6911553886678737\n",
      "KNN {}nn score: {} 0.8801447939250828\n",
      "Accuracy of Naive Bayes Algo:  0.7600956819748548\n",
      "Accuracy of NeighborhoodComponentsAnalysis: 1.0\n",
      "Accuracy of MLPClassifier 0.7423122635057255\n"
     ]
    }
   ],
   "source": [
    "# remove unwanted features from the dataset\n",
    "\n",
    "X_train = X_train[selected_features]\n",
    "X_test =  X_test[selected_features]\n",
    "from sklearn.tree import DecisionTreeClassifier # Import Decision Tree Classifier\n",
    "from sklearn.preprocessing import StandardScaler\n",
    "from sklearn.linear_model import LogisticRegression\n",
    "from sklearn.neighbors import KNeighborsClassifier\n",
    "from sklearn.svm import SVC\n",
    "from sklearn.ensemble import BaggingClassifier\n",
    "from sklearn.naive_bayes import GaussianNB\n",
    "from sklearn.ensemble import RandomForestClassifier\n",
    "from sklearn.neighbors import NeighborhoodComponentsAnalysis\n",
    "from sklearn.pipeline import Pipeline\n",
    "from sklearn.ensemble import GradientBoostingClassifier\n",
    "from sklearn.neural_network import MLPClassifier\n",
    "from sklearn.preprocessing import StandardScaler\n",
    "from sklearn.pipeline import make_pipeline\n",
    "from sklearn.ensemble import ExtraTreesClassifier\n",
    "from sklearn.ensemble import StackingClassifier\n",
    "from sklearn.svm import LinearSVC\n",
    "from sklearn.datasets import make_classification\n",
    "\n",
    "from sklearn.model_selection import GridSearchCV\n",
    "from sklearn.ensemble import VotingClassifier\n",
    "from sklearn.ensemble import ExtraTreesClassifier\n",
    "from sklearn.experimental import enable_hist_gradient_boosting\n",
    "from sklearn.ensemble import HistGradientBoostingClassifier\n",
    "from sklearn.ensemble import GradientBoostingClassifier\n",
    "from sklearn.model_selection import cross_val_score\n",
    "from sklearn.ensemble import AdaBoostClassifier\n",
    "\n",
    "clf = AdaBoostClassifier(n_estimators=100)\n",
    "clf = clf.fit(X_train,y_train)\n",
    "y_pred = clf.predict_proba(X_train)\n",
    "print('Ada Boost roc-auc: {}'.format(roc_auc_score(y_train, y_pred,multi_class=\"ovo\")))\n",
    "\n",
    "\n",
    "clf = GradientBoostingClassifier(n_estimators=100, learning_rate=1.0,\n",
    "  max_depth=1, random_state=0).fit(X_train, y_train)\n",
    "\n",
    "clf = clf.fit(X_train,y_train)\n",
    "y_pred = clf.predict_proba(X_train)\n",
    "print('GradientBoostingClassifier roc-auc: {}'.format(roc_auc_score(y_train, y_pred,multi_class=\"ovo\")))\n",
    "\n",
    "\n",
    "clf = HistGradientBoostingClassifier(max_iter=100).fit(X_train, y_train)\n",
    "clf = clf.fit(X_train,y_train)\n",
    "y_pred = clf.predict_proba(X_train)\n",
    "print('HistGradientBoostingClassifier roc-auc: {}'.format(roc_auc_score(y_train, y_pred,multi_class=\"ovo\")))\n",
    "\n",
    "\n",
    "clf = ExtraTreesClassifier(n_estimators=10, max_depth=None,\n",
    "     min_samples_split=2, random_state=0)\n",
    "\n",
    "clf = clf.fit(X_train,y_train)\n",
    "y_pred = clf.predict_proba(X_train)\n",
    "print('ExtraTreesClassifier roc-auc: {}'.format(roc_auc_score(y_train, y_pred,multi_class=\"ovo\")))\n",
    "\n",
    "clf1 = LogisticRegression(random_state=1)\n",
    "clf2 = RandomForestClassifier(n_estimators=50, random_state=1)\n",
    "clf3 = GaussianNB()\n",
    "\n",
    "eclf = VotingClassifier(\n",
    "     estimators=[('lr', clf1), ('rf', clf2), ('gnb', clf3)],\n",
    "     voting='soft')\n",
    "\n",
    "params = {'lr__C': [1.0, 100.0], 'rf__n_estimators': [20, 200]}\n",
    "\n",
    "grid = GridSearchCV(estimator=eclf, param_grid=params, cv=5)\n",
    "grid = grid.fit(X_train,y_train)\n",
    "y_pred = grid.predict_proba(X_train)\n",
    "print('Voting Classifier roc-auc: {}'.format(roc_auc_score(y_train, y_pred,multi_class=\"ovo\")))\n",
    "\n",
    "clf = DecisionTreeClassifier(criterion=\"entropy\", max_depth=9)\n",
    "clf = clf.fit(X_train,y_train)\n",
    "y_pred = clf.predict_proba(X_train)\n",
    "print(\"Decision Tree Accuracy:\",roc_auc_score(y_train, y_pred,multi_class=\"ovo\"))\n",
    "\n",
    "clf = BaggingClassifier(base_estimator=SVC(),\n",
    "                        n_estimators=10, random_state=0)\n",
    "clf.fit(X_train,y_train)\n",
    "y_pred = clf.predict_proba(X_train)\n",
    "print('BaggingClassifier roc-auc: {}'.format(roc_auc_score(y_train, y_pred,multi_class=\"ovo\")))\n",
    "\n",
    "clf = KNeighborsClassifier(n_neighbors = 5)\n",
    "clf = clf.fit(X_train,y_train)\n",
    "y_pred = clf.predict_proba(X_train)\n",
    "\n",
    "print(\"KNN {}nn score: {}\",roc_auc_score(y_train, y_pred,multi_class=\"ovo\"))\n",
    "\n",
    "clf = GaussianNB()\n",
    "clf = clf.fit(X_train,y_train)\n",
    "y_pred = clf.predict_proba(X_train)\n",
    "print(\"Accuracy of Naive Bayes Algo: \", roc_auc_score(y_train, y_pred,multi_class=\"ovo\"))\n",
    "\n",
    "\n",
    "nca = NeighborhoodComponentsAnalysis(random_state=42)\n",
    "n = []\n",
    "for i in range(500):\n",
    "    \n",
    "    knn = KNeighborsClassifier(n_neighbors=i+1)\n",
    "    clf = Pipeline([('nca', nca), ('knn', knn)])\n",
    "    clf = clf.fit(X_train,y_train)\n",
    "    y_pred = clf.predict_proba(X_train)\n",
    "    n.append(roc_auc_score(y_train, y_pred,multi_class=\"ovo\"))\n",
    "print(\"Accuracy of NeighborhoodComponentsAnalysis:\",max(n))\n",
    "\n",
    "\n",
    "\n",
    "clf = MLPClassifier(random_state=1, max_iter=600).fit(X_train, y_train)\n",
    "clf = clf.fit(X_train,y_train)\n",
    "y_pred = clf.predict_proba(X_train)\n",
    "print(\"Accuracy of MLPClassifier\",roc_auc_score(y_train, y_pred,multi_class=\"ovo\"))"
   ]
  },
  {
   "cell_type": "code",
   "execution_count": null,
   "metadata": {},
   "outputs": [],
   "source": []
  },
  {
   "cell_type": "markdown",
   "metadata": {},
   "source": [
    "## Regression"
   ]
  },
  {
   "cell_type": "code",
   "execution_count": 9,
   "metadata": {},
   "outputs": [
    {
     "data": {
      "text/plain": [
       "(1460, 81)"
      ]
     },
     "execution_count": 9,
     "metadata": {},
     "output_type": "execute_result"
    }
   ],
   "source": [
    "# load dataset\n",
    "data = pd.read_csv('../houseprice.csv')\n",
    "data.shape"
   ]
  },
  {
   "cell_type": "code",
   "execution_count": 10,
   "metadata": {},
   "outputs": [
    {
     "data": {
      "text/plain": [
       "(1460, 38)"
      ]
     },
     "execution_count": 10,
     "metadata": {},
     "output_type": "execute_result"
    }
   ],
   "source": [
    "# In practice, feature selection should be done after data pre-processing,\n",
    "# so ideally, all the categorical variables are encoded into numbers,\n",
    "# and then you can assess how deterministic they are of the target\n",
    "\n",
    "# here for simplicity I will use only numerical variables\n",
    "# select numerical columns:\n",
    "\n",
    "numerics = ['int16', 'int32', 'int64', 'float16', 'float32', 'float64']\n",
    "numerical_vars = list(data.select_dtypes(include=numerics).columns)\n",
    "data = data[numerical_vars]\n",
    "data.shape"
   ]
  },
  {
   "cell_type": "code",
   "execution_count": 11,
   "metadata": {},
   "outputs": [
    {
     "data": {
      "text/plain": [
       "((1022, 37), (438, 37))"
      ]
     },
     "execution_count": 11,
     "metadata": {},
     "output_type": "execute_result"
    }
   ],
   "source": [
    "# separate train and test sets\n",
    "X_train, X_test, y_train, y_test = train_test_split(\n",
    "    data.drop(labels=['SalePrice'], axis=1),\n",
    "    data['SalePrice'],\n",
    "    test_size=0.3,\n",
    "    random_state=0)\n",
    "\n",
    "X_train.shape, X_test.shape"
   ]
  },
  {
   "cell_type": "markdown",
   "metadata": {},
   "source": [
    "### Perform univariate anova"
   ]
  },
  {
   "cell_type": "code",
   "execution_count": 12,
   "metadata": {
    "scrolled": false
   },
   "outputs": [
    {
     "data": {
      "text/plain": [
       "<matplotlib.axes._subplots.AxesSubplot at 0x30dbb19fa0>"
      ]
     },
     "execution_count": 12,
     "metadata": {},
     "output_type": "execute_result"
    },
    {
     "data": {
      "image/png": "[encoded data removed]",
      "text/plain": [
       "<Figure size 1440x432 with 1 Axes>"
      ]
     },
     "metadata": {
      "needs_background": "light"
     },
     "output_type": "display_data"
    }
   ],
   "source": [
    "# univariate anova\n",
    "univariate = f_regression(X_train.fillna(0), y_train)\n",
    "\n",
    "# plot values\n",
    "univariate = pd.Series(univariate[1])\n",
    "univariate.index = X_train.columns\n",
    "univariate.sort_values(ascending=False).plot.bar(figsize=(20,6))"
   ]
  },
  {
   "cell_type": "markdown",
   "metadata": {},
   "source": [
    "### Select features in top 10th percentile"
   ]
  },
  {
   "cell_type": "code",
   "execution_count": 13,
   "metadata": {},
   "outputs": [
    {
     "data": {
      "text/plain": [
       "Index(['OverallQual', 'GrLivArea', 'GarageCars', 'GarageArea'], dtype='object')"
      ]
     },
     "execution_count": 13,
     "metadata": {},
     "output_type": "execute_result"
    }
   ],
   "source": [
    "# select features in top 10th percentile\n",
    "sel_ = SelectPercentile(f_regression,\n",
    "                        percentile=10).fit(X_train.fillna(0), y_train)\n",
    "\n",
    "# display selected feature names\n",
    "X_train.columns[sel_.get_support()]"
   ]
  },
  {
   "cell_type": "code",
   "execution_count": 14,
   "metadata": {},
   "outputs": [
    {
     "data": {
      "text/plain": [
       "(1022, 4)"
      ]
     },
     "execution_count": 14,
     "metadata": {},
     "output_type": "execute_result"
    }
   ],
   "source": [
    "# select features / discard unwanted features\n",
    "\n",
    "X_train = sel_.transform(X_train.fillna(0))\n",
    "X_train.shape"
   ]
  },
  {
   "cell_type": "markdown",
   "metadata": {},
   "source": [
    "I rarely use these methods to select features. But, I wanted to have them covered in the course so you can play aroundand see if you find them useful.\n",
    "\n",
    "That is all for this lecture, I hope you enjoyed it and see you in the next one!"
   ]
  }
 ],
 "metadata": {
  "kernelspec": {
   "display_name": "Python 3",
   "language": "python",
   "name": "python3"
  },
  "language_info": {
   "codemirror_mode": {
    "name": "ipython",
    "version": 3
   },
   "file_extension": ".py",
   "mimetype": "text/x-python",
   "name": "python",
   "nbconvert_exporter": "python",
   "pygments_lexer": "ipython3",
   "version": "3.7.5"
  },
  "toc": {
   "base_numbering": 1,
   "nav_menu": {},
   "number_sections": true,
   "sideBar": true,
   "skip_h1_title": false,
   "title_cell": "Table of Contents",
   "title_sidebar": "Contents",
   "toc_cell": false,
   "toc_position": {},
   "toc_section_display": "block",
   "toc_window_display": true
  }
 },
 "nbformat": 4,
 "nbformat_minor": 2
}
