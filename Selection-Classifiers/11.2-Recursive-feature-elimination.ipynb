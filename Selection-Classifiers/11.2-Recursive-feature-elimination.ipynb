{
 "cells": [
  {
   "cell_type": "markdown",
   "metadata": {},
   "source": [
    "## Hybrid method: Recursive feature elimination\n",
    "\n",
    "This method consists of the following steps:\n",
    "\n",
    "1) Rank the features according to their importance derived from a machine learning algorithm: it can be tree importance or  coefficients derived from linear models.\n",
    "\n",
    "2) Remove one feature -the least important- and build a machine learning algorithm utilising the remaining features.\n",
    "\n",
    "3) Calculate a performance metric of choice: roc-auc, mse, rmse, accuracy, etc.\n",
    "\n",
    "4) If the metric decreases by more of an arbitrarily set threshold, then that feature is important and should be kept. Otherwise, we can remove that feature.\n",
    "\n",
    "5) Repeat steps 2-4 until all features have been evaluated.\n",
    "\n",
    "\n",
    "I call this a hybrid method because:\n",
    "\n",
    "- it derives the importance derived from the machine learning algorithm, like embedded methods\n",
    "- it builds several machine learning models, like wrapper methods.\n",
    "\n",
    "This method is faster than wrapper methods and often better than embedded methods. In practice it works extremely well. \n",
    "\n",
    "One thing to note is that the minimum drop in performance to decide if a feature should be kept is set arbitrarily. The smaller the drop the more features will be selected, and vice versa.\n",
    "\n",
    "I will demonstrate how to select features using this method on a regression and classification problem."
   ]
  },
  {
   "cell_type": "code",
   "execution_count": 1,
   "metadata": {},
   "outputs": [],
   "source": [
    "import pandas as pd\n",
    "import numpy as np\n",
    "\n",
    "import matplotlib.pyplot as plt\n",
    "from sklearn.model_selection import train_test_split\n",
    "\n",
    "from sklearn.ensemble import GradientBoostingClassifier, GradientBoostingRegressor\n",
    "from sklearn.metrics import roc_auc_score, r2_score"
   ]
  },
  {
   "cell_type": "markdown",
   "metadata": {},
   "source": [
    "## Classification"
   ]
  },
  {
   "cell_type": "code",
   "execution_count": 2,
   "metadata": {},
   "outputs": [
    {
     "data": {
      "text/plain": [
       "(1004, 36)"
      ]
     },
     "execution_count": 2,
     "metadata": {},
     "output_type": "execute_result"
    }
   ],
   "source": [
    "# load dataset\n",
    "data = pd.read_csv('C:/Users/RAJENDRA REDDY/Downloads/finalData.csv')\n",
    "data.shape"
   ]
  },
  {
   "cell_type": "code",
   "execution_count": 3,
   "metadata": {},
   "outputs": [
    {
     "data": {
      "text/html": [
       "<div>\n",
       "<style scoped>\n",
       "    .dataframe tbody tr th:only-of-type {\n",
       "        vertical-align: middle;\n",
       "    }\n",
       "\n",
       "    .dataframe tbody tr th {\n",
       "        vertical-align: top;\n",
       "    }\n",
       "\n",
       "    .dataframe thead th {\n",
       "        text-align: right;\n",
       "    }\n",
       "</style>\n",
       "<table border=\"1\" class=\"dataframe\">\n",
       "  <thead>\n",
       "    <tr style=\"text-align: right;\">\n",
       "      <th></th>\n",
       "      <th>chroma_stft_min</th>\n",
       "      <th>chroma_stft_max</th>\n",
       "      <th>chroma_cqt_min</th>\n",
       "      <th>chroma_cqt_max</th>\n",
       "      <th>chroma_cens_min</th>\n",
       "      <th>chroma_cens_max</th>\n",
       "      <th>melspectogram_min</th>\n",
       "      <th>melspectogram_max</th>\n",
       "      <th>mfcc_min</th>\n",
       "      <th>mfcc_max</th>\n",
       "      <th>...</th>\n",
       "      <th>zero_crossing_rate_min</th>\n",
       "      <th>zero_crossing_rate_max</th>\n",
       "      <th>tempogram_min</th>\n",
       "      <th>tempogram_max</th>\n",
       "      <th>delta_mfcc_min</th>\n",
       "      <th>delta_mfcc_max</th>\n",
       "      <th>mel_to_stft_min</th>\n",
       "      <th>mel_to_stft_max</th>\n",
       "      <th>class</th>\n",
       "      <th>song</th>\n",
       "    </tr>\n",
       "  </thead>\n",
       "  <tbody>\n",
       "    <tr>\n",
       "      <th>0</th>\n",
       "      <td>0.000465</td>\n",
       "      <td>1</td>\n",
       "      <td>0.015500</td>\n",
       "      <td>1</td>\n",
       "      <td>0.000000</td>\n",
       "      <td>0.896673</td>\n",
       "      <td>4.630000e-06</td>\n",
       "      <td>8115.67330</td>\n",
       "      <td>-179.93100</td>\n",
       "      <td>152.82954</td>\n",
       "      <td>...</td>\n",
       "      <td>0.017578</td>\n",
       "      <td>0.510742</td>\n",
       "      <td>-3.410000e-16</td>\n",
       "      <td>1</td>\n",
       "      <td>-22.534570</td>\n",
       "      <td>24.518091</td>\n",
       "      <td>0</td>\n",
       "      <td>19.284609</td>\n",
       "      <td>0</td>\n",
       "      <td>Sai Aaye Ghar Mere_shortened.wav</td>\n",
       "    </tr>\n",
       "    <tr>\n",
       "      <th>1</th>\n",
       "      <td>0.000995</td>\n",
       "      <td>1</td>\n",
       "      <td>0.055937</td>\n",
       "      <td>1</td>\n",
       "      <td>0.015298</td>\n",
       "      <td>0.711400</td>\n",
       "      <td>4.670000e-07</td>\n",
       "      <td>911.08636</td>\n",
       "      <td>-205.91670</td>\n",
       "      <td>153.33410</td>\n",
       "      <td>...</td>\n",
       "      <td>0.044922</td>\n",
       "      <td>0.393555</td>\n",
       "      <td>-2.900000e-16</td>\n",
       "      <td>1</td>\n",
       "      <td>-24.840630</td>\n",
       "      <td>25.185534</td>\n",
       "      <td>0</td>\n",
       "      <td>10.810534</td>\n",
       "      <td>0</td>\n",
       "      <td>Sai Baba De Kol_shortened.wav</td>\n",
       "    </tr>\n",
       "    <tr>\n",
       "      <th>2</th>\n",
       "      <td>0.002606</td>\n",
       "      <td>1</td>\n",
       "      <td>0.045407</td>\n",
       "      <td>1</td>\n",
       "      <td>0.000000</td>\n",
       "      <td>0.748225</td>\n",
       "      <td>1.750000e-06</td>\n",
       "      <td>4857.33900</td>\n",
       "      <td>-153.78363</td>\n",
       "      <td>138.30722</td>\n",
       "      <td>...</td>\n",
       "      <td>0.023438</td>\n",
       "      <td>0.501953</td>\n",
       "      <td>-3.060000e-16</td>\n",
       "      <td>1</td>\n",
       "      <td>-22.603357</td>\n",
       "      <td>29.282093</td>\n",
       "      <td>0</td>\n",
       "      <td>17.607744</td>\n",
       "      <td>0</td>\n",
       "      <td>Sai Baba Humko_shortened.wav</td>\n",
       "    </tr>\n",
       "    <tr>\n",
       "      <th>3</th>\n",
       "      <td>0.001447</td>\n",
       "      <td>1</td>\n",
       "      <td>0.041263</td>\n",
       "      <td>1</td>\n",
       "      <td>0.000000</td>\n",
       "      <td>0.782758</td>\n",
       "      <td>3.110000e-07</td>\n",
       "      <td>3757.07840</td>\n",
       "      <td>-194.94710</td>\n",
       "      <td>146.71315</td>\n",
       "      <td>...</td>\n",
       "      <td>0.020508</td>\n",
       "      <td>0.225586</td>\n",
       "      <td>-3.020000e-16</td>\n",
       "      <td>1</td>\n",
       "      <td>-23.918428</td>\n",
       "      <td>24.815857</td>\n",
       "      <td>0</td>\n",
       "      <td>15.681977</td>\n",
       "      <td>0</td>\n",
       "      <td>Sai Baba Ji Kar Do_shortened.wav</td>\n",
       "    </tr>\n",
       "    <tr>\n",
       "      <th>4</th>\n",
       "      <td>0.002157</td>\n",
       "      <td>1</td>\n",
       "      <td>0.040596</td>\n",
       "      <td>1</td>\n",
       "      <td>0.001198</td>\n",
       "      <td>0.717803</td>\n",
       "      <td>5.210000e-06</td>\n",
       "      <td>4824.61400</td>\n",
       "      <td>-189.73987</td>\n",
       "      <td>157.58157</td>\n",
       "      <td>...</td>\n",
       "      <td>0.020020</td>\n",
       "      <td>0.328613</td>\n",
       "      <td>-3.980000e-16</td>\n",
       "      <td>1</td>\n",
       "      <td>-19.628017</td>\n",
       "      <td>24.007666</td>\n",
       "      <td>0</td>\n",
       "      <td>16.976337</td>\n",
       "      <td>0</td>\n",
       "      <td>Sai Baba Mujhe Gale Se_shortened.wav</td>\n",
       "    </tr>\n",
       "  </tbody>\n",
       "</table>\n",
       "<p>5 rows × 36 columns</p>\n",
       "</div>"
      ],
      "text/plain": [
       "   chroma_stft_min  chroma_stft_max  chroma_cqt_min  chroma_cqt_max  \\\n",
       "0         0.000465                1        0.015500               1   \n",
       "1         0.000995                1        0.055937               1   \n",
       "2         0.002606                1        0.045407               1   \n",
       "3         0.001447                1        0.041263               1   \n",
       "4         0.002157                1        0.040596               1   \n",
       "\n",
       "   chroma_cens_min  chroma_cens_max  melspectogram_min  melspectogram_max  \\\n",
       "0         0.000000         0.896673       4.630000e-06         8115.67330   \n",
       "1         0.015298         0.711400       4.670000e-07          911.08636   \n",
       "2         0.000000         0.748225       1.750000e-06         4857.33900   \n",
       "3         0.000000         0.782758       3.110000e-07         3757.07840   \n",
       "4         0.001198         0.717803       5.210000e-06         4824.61400   \n",
       "\n",
       "    mfcc_min   mfcc_max  ...  zero_crossing_rate_min  zero_crossing_rate_max  \\\n",
       "0 -179.93100  152.82954  ...                0.017578                0.510742   \n",
       "1 -205.91670  153.33410  ...                0.044922                0.393555   \n",
       "2 -153.78363  138.30722  ...                0.023438                0.501953   \n",
       "3 -194.94710  146.71315  ...                0.020508                0.225586   \n",
       "4 -189.73987  157.58157  ...                0.020020                0.328613   \n",
       "\n",
       "   tempogram_min  tempogram_max  delta_mfcc_min  delta_mfcc_max  \\\n",
       "0  -3.410000e-16              1      -22.534570       24.518091   \n",
       "1  -2.900000e-16              1      -24.840630       25.185534   \n",
       "2  -3.060000e-16              1      -22.603357       29.282093   \n",
       "3  -3.020000e-16              1      -23.918428       24.815857   \n",
       "4  -3.980000e-16              1      -19.628017       24.007666   \n",
       "\n",
       "   mel_to_stft_min  mel_to_stft_max  class  \\\n",
       "0                0        19.284609      0   \n",
       "1                0        10.810534      0   \n",
       "2                0        17.607744      0   \n",
       "3                0        15.681977      0   \n",
       "4                0        16.976337      0   \n",
       "\n",
       "                                   song  \n",
       "0      Sai Aaye Ghar Mere_shortened.wav  \n",
       "1         Sai Baba De Kol_shortened.wav  \n",
       "2          Sai Baba Humko_shortened.wav  \n",
       "3      Sai Baba Ji Kar Do_shortened.wav  \n",
       "4  Sai Baba Mujhe Gale Se_shortened.wav  \n",
       "\n",
       "[5 rows x 36 columns]"
      ]
     },
     "execution_count": 3,
     "metadata": {},
     "output_type": "execute_result"
    }
   ],
   "source": [
    "data.head()"
   ]
  },
  {
   "cell_type": "markdown",
   "metadata": {},
   "source": [
    "**Important**\n",
    "\n",
    "In all feature selection procedures, it is good practice to select the features by examining only the training set. And this is to avoid overfit."
   ]
  },
  {
   "cell_type": "code",
   "execution_count": 4,
   "metadata": {},
   "outputs": [
    {
     "data": {
      "text/plain": [
       "((702, 34), (302, 34))"
      ]
     },
     "execution_count": 4,
     "metadata": {},
     "output_type": "execute_result"
    }
   ],
   "source": [
    "# separate train and test sets\n",
    "X_train, X_test, y_train, y_test = train_test_split(\n",
    "    data.drop(labels=['class','song'], axis=1),\n",
    "    data['class'],\n",
    "    test_size=0.3,\n",
    "    random_state=0)\n",
    "\n",
    "X_train.shape, X_test.shape"
   ]
  },
  {
   "cell_type": "markdown",
   "metadata": {},
   "source": [
    "### Remove constant and quasi-constant features"
   ]
  },
  {
   "cell_type": "code",
   "execution_count": 5,
   "metadata": {},
   "outputs": [
    {
     "name": "stderr",
     "output_type": "stream",
     "text": [
      "c:\\users\\rajendra reddy\\appdata\\local\\programs\\python\\python37\\lib\\site-packages\\ipykernel_launcher.py:10: DeprecationWarning: `np.float` is a deprecated alias for the builtin `float`. To silence this warning, use `float` by itself. Doing this will not modify any behavior and is safe. If you specifically wanted the numpy scalar type, use `np.float64` here.\n",
      "Deprecated in NumPy 1.20; for more details and guidance: https://numpy.org/devdocs/release/1.20.0-notes.html#deprecations\n",
      "  # Remove the CWD from sys.path while we load stuff.\n"
     ]
    },
    {
     "data": {
      "text/plain": [
       "((702, 30), (302, 30))"
      ]
     },
     "execution_count": 5,
     "metadata": {},
     "output_type": "execute_result"
    }
   ],
   "source": [
    "# to speed things up we remove constant, quasi-constand and duplicated features\n",
    "\n",
    "quasi_constant_feat = []\n",
    "\n",
    "# iterate over every feature\n",
    "for feature in X_train.columns:\n",
    "\n",
    "    # find the predominant value, that is the value that is shared\n",
    "    # by most observations\n",
    "    predominant = (X_train[feature].value_counts() / np.float(\n",
    "        len(X_train))).sort_values(ascending=False).values[0]\n",
    "\n",
    "    # evaluate the predominant feature: do more than 99% of the observations\n",
    "    # show 1 value?\n",
    "    if predominant > 0.998:\n",
    "        \n",
    "        # if yes, add the variable to the list\n",
    "        quasi_constant_feat.append(feature)\n",
    "\n",
    "X_train.drop(labels=quasi_constant_feat, axis=1, inplace=True)\n",
    "X_test.drop(labels=quasi_constant_feat, axis=1, inplace=True)\n",
    "\n",
    "X_train.shape, X_test.shape"
   ]
  },
  {
   "cell_type": "markdown",
   "metadata": {},
   "source": [
    "### Remove duplicated features"
   ]
  },
  {
   "cell_type": "code",
   "execution_count": 6,
   "metadata": {},
   "outputs": [
    {
     "name": "stdout",
     "output_type": "stream",
     "text": [
      "0\n",
      "10\n",
      "20\n"
     ]
    },
    {
     "data": {
      "text/plain": [
       "0"
      ]
     },
     "execution_count": 6,
     "metadata": {},
     "output_type": "execute_result"
    }
   ],
   "source": [
    "duplicated_feat = []\n",
    "for i in range(0, len(X_train.columns)):\n",
    "    if i % 10 == 0:  # this helps me understand how the loop is going\n",
    "        print(i)\n",
    "\n",
    "    col_1 = X_train.columns[i]\n",
    "\n",
    "    for col_2 in X_train.columns[i + 1:]:\n",
    "        if X_train[col_1].equals(X_train[col_2]):\n",
    "            duplicated_feat.append(col_2)\n",
    "            \n",
    "len(duplicated_feat)"
   ]
  },
  {
   "cell_type": "code",
   "execution_count": 7,
   "metadata": {},
   "outputs": [
    {
     "data": {
      "text/plain": [
       "((702, 30), (302, 30))"
      ]
     },
     "execution_count": 7,
     "metadata": {},
     "output_type": "execute_result"
    }
   ],
   "source": [
    "# remove duplicated features\n",
    "X_train.drop(labels=duplicated_feat, axis=1, inplace=True)\n",
    "X_test.drop(labels=duplicated_feat, axis=1, inplace=True)\n",
    "\n",
    "X_train.shape, X_test.shape"
   ]
  },
  {
   "cell_type": "markdown",
   "metadata": {},
   "source": [
    "### Build ML model with all features"
   ]
  },
  {
   "cell_type": "code",
   "execution_count": 11,
   "metadata": {
    "scrolled": true
   },
   "outputs": [
    {
     "name": "stdout",
     "output_type": "stream",
     "text": [
      "Test ROC AUC=0.779408\n"
     ]
    }
   ],
   "source": [
    "# the first step of this procedure consists in building\n",
    "# a machine learning algorithm using all the available features\n",
    "# and then determine the importance of the features according\n",
    "# to the algorithm\n",
    "\n",
    "# build initial model using all the features\n",
    "model_full = GradientBoostingClassifier(n_estimators=10, max_depth=4, random_state=10)\n",
    "\n",
    "model_full.fit(X_train, y_train)\n",
    "\n",
    "# calculate the roc-auc in the test set\n",
    "y_pred_test = model_full.predict_proba(X_test)\n",
    "roc_full = roc_auc_score(y_test, y_pred_test,multi_class=\"ovr\")\n",
    "\n",
    "print('Test ROC AUC=%f' % (roc_full))"
   ]
  },
  {
   "cell_type": "markdown",
   "metadata": {},
   "source": [
    "### Rank features by importance"
   ]
  },
  {
   "cell_type": "code",
   "execution_count": 12,
   "metadata": {},
   "outputs": [
    {
     "data": {
      "image/png": "[encoded data removed]",
      "text/plain": [
       "<Figure size 1440x432 with 1 Axes>"
      ]
     },
     "metadata": {
      "needs_background": "light"
     },
     "output_type": "display_data"
    }
   ],
   "source": [
    "# the second step consist of deriving the importance of \n",
    "# each feature and ranking them from the least to the most\n",
    "# important\n",
    "\n",
    "# get feature name and importance\n",
    "features = pd.Series(model_full.feature_importances_)\n",
    "features.index = X_train.columns\n",
    "\n",
    "# sort the features by importance\n",
    "features.sort_values(ascending=True, inplace=True)\n",
    "\n",
    "# plot\n",
    "features.plot.bar(figsize=(20,6))\n",
    "plt.xlabel('Features')\n",
    "plt.ylabel('Importance')\n",
    "plt.show()"
   ]
  },
  {
   "cell_type": "code",
   "execution_count": 13,
   "metadata": {},
   "outputs": [
    {
     "data": {
      "text/plain": [
       "['tempogram_min',\n",
       " 'chroma_cens_min',\n",
       " 'melspectogram_min',\n",
       " 'chroma_stft_min',\n",
       " 'spectral_rolloff_max',\n",
       " 'spectral_flatness_min',\n",
       " 'chroma_cqt_min',\n",
       " 'spectral_centroid_min',\n",
       " 'melspectogram_max',\n",
       " 'chroma_cens_max',\n",
       " 'spectral_contrast_max',\n",
       " 'tonnetz_min',\n",
       " 'spectral_contrast_min',\n",
       " 'tonnetz_max',\n",
       " 'rms_max',\n",
       " 'mel_to_stft_max',\n",
       " 'poly_features_min',\n",
       " 'delta_mfcc_min',\n",
       " 'spectral_flatness_max',\n",
       " 'poly_features_max',\n",
       " 'zero_crossing_rate_max',\n",
       " 'mfcc_max',\n",
       " 'spectral_rolloff_min',\n",
       " 'spectral_bandwidth_min',\n",
       " 'zero_crossing_rate_min',\n",
       " 'delta_mfcc_max',\n",
       " 'spectral_bandwidth_max',\n",
       " 'spectral_centroid_max',\n",
       " 'rms_min',\n",
       " 'mfcc_min']"
      ]
     },
     "execution_count": 13,
     "metadata": {},
     "output_type": "execute_result"
    }
   ],
   "source": [
    "# make list of ordered features\n",
    "features = list(features.index)\n",
    "features"
   ]
  },
  {
   "cell_type": "markdown",
   "metadata": {},
   "source": [
    "### Select features"
   ]
  },
  {
   "cell_type": "code",
   "execution_count": 17,
   "metadata": {
    "scrolled": true
   },
   "outputs": [
    {
     "name": "stdout",
     "output_type": "stream",
     "text": [
      "doing recursive feature elimination\n",
      "\n",
      "testing feature:  tempogram_min 1  out of  30\n",
      "New Test ROC AUC=0.774986205561756\n",
      "Full dataset ROC AUC=0.7794077449374358\n",
      "Drop in ROC AUC=0.004421539375679795\n",
      "keep:  tempogram_min\n",
      "\n",
      "testing feature:  chroma_cens_min 2  out of  30\n",
      "New Test ROC AUC=0.7712929815441943\n",
      "Full dataset ROC AUC=0.7794077449374358\n",
      "Drop in ROC AUC=0.008114763393241464\n",
      "keep:  chroma_cens_min\n",
      "\n",
      "testing feature:  melspectogram_min 3  out of  30\n",
      "New Test ROC AUC=0.777673501894497\n",
      "Full dataset ROC AUC=0.7794077449374358\n",
      "Drop in ROC AUC=0.0017342430429387878\n",
      "keep:  melspectogram_min\n",
      "\n",
      "testing feature:  chroma_stft_min 4  out of  30\n",
      "New Test ROC AUC=0.7798595338099613\n",
      "Full dataset ROC AUC=0.7794077449374358\n",
      "Drop in ROC AUC=-0.0004517888725255048\n",
      "remove:  chroma_stft_min\n",
      "\n",
      "testing feature:  spectral_rolloff_max 5  out of  30\n",
      "New Test ROC AUC=0.7755342415715074\n",
      "Full dataset ROC AUC=0.7798595338099613\n",
      "Drop in ROC AUC=0.004325292238453904\n",
      "keep:  spectral_rolloff_max\n",
      "\n",
      "testing feature:  spectral_flatness_min 6  out of  30\n",
      "New Test ROC AUC=0.7770519527285842\n",
      "Full dataset ROC AUC=0.7798595338099613\n",
      "Drop in ROC AUC=0.0028075810813771307\n",
      "keep:  spectral_flatness_min\n",
      "\n",
      "testing feature:  chroma_cqt_min 7  out of  30\n",
      "New Test ROC AUC=0.7737508342263301\n",
      "Full dataset ROC AUC=0.7798595338099613\n",
      "Drop in ROC AUC=0.00610869958363125\n",
      "keep:  chroma_cqt_min\n",
      "\n",
      "testing feature:  spectral_centroid_min 8  out of  30\n",
      "New Test ROC AUC=0.7712165912876658\n",
      "Full dataset ROC AUC=0.7798595338099613\n",
      "Drop in ROC AUC=0.008642942522295471\n",
      "keep:  spectral_centroid_min\n",
      "\n",
      "testing feature:  melspectogram_max 9  out of  30\n",
      "New Test ROC AUC=0.7811901522190056\n",
      "Full dataset ROC AUC=0.7798595338099613\n",
      "Drop in ROC AUC=-0.0013306184090442486\n",
      "remove:  melspectogram_max\n",
      "\n",
      "testing feature:  chroma_cens_max 10  out of  30\n",
      "New Test ROC AUC=0.7708130356604311\n",
      "Full dataset ROC AUC=0.7811901522190056\n",
      "Drop in ROC AUC=0.010377116558574428\n",
      "keep:  chroma_cens_max\n",
      "\n",
      "testing feature:  spectral_contrast_max 11  out of  30\n",
      "New Test ROC AUC=0.7769675100749607\n",
      "Full dataset ROC AUC=0.7811901522190056\n",
      "Drop in ROC AUC=0.004222642144044886\n",
      "keep:  spectral_contrast_max\n",
      "\n",
      "testing feature:  tonnetz_min 12  out of  30\n",
      "New Test ROC AUC=0.7829250005648211\n",
      "Full dataset ROC AUC=0.7811901522190056\n",
      "Drop in ROC AUC=-0.0017348483458154984\n",
      "remove:  tonnetz_min\n",
      "\n",
      "testing feature:  spectral_contrast_min 13  out of  30\n",
      "New Test ROC AUC=0.7758896943199617\n",
      "Full dataset ROC AUC=0.7829250005648211\n",
      "Drop in ROC AUC=0.007035306244859374\n",
      "keep:  spectral_contrast_min\n",
      "\n",
      "testing feature:  tonnetz_max 14  out of  30\n",
      "New Test ROC AUC=0.7740235813286237\n",
      "Full dataset ROC AUC=0.7829250005648211\n",
      "Drop in ROC AUC=0.008901419236197361\n",
      "keep:  tonnetz_max\n",
      "\n",
      "testing feature:  rms_max 15  out of  30\n",
      "New Test ROC AUC=0.7789804521488749\n",
      "Full dataset ROC AUC=0.7829250005648211\n",
      "Drop in ROC AUC=0.003944548415946159\n",
      "keep:  rms_max\n",
      "\n",
      "testing feature:  mel_to_stft_max 16  out of  30\n",
      "New Test ROC AUC=0.779232264732302\n",
      "Full dataset ROC AUC=0.7829250005648211\n",
      "Drop in ROC AUC=0.0036927358325190562\n",
      "keep:  mel_to_stft_max\n",
      "\n",
      "testing feature:  poly_features_min 17  out of  30\n",
      "New Test ROC AUC=0.7780990209767038\n",
      "Full dataset ROC AUC=0.7829250005648211\n",
      "Drop in ROC AUC=0.004825979588117257\n",
      "keep:  poly_features_min\n",
      "\n",
      "testing feature:  delta_mfcc_min 18  out of  30\n",
      "New Test ROC AUC=0.7713400313762484\n",
      "Full dataset ROC AUC=0.7829250005648211\n",
      "Drop in ROC AUC=0.011584969188572658\n",
      "keep:  delta_mfcc_min\n",
      "\n",
      "testing feature:  spectral_flatness_max 19  out of  30\n",
      "New Test ROC AUC=0.7773432004109349\n",
      "Full dataset ROC AUC=0.7829250005648211\n",
      "Drop in ROC AUC=0.005581800153886207\n",
      "keep:  spectral_flatness_max\n",
      "\n",
      "testing feature:  poly_features_max 20  out of  30\n",
      "New Test ROC AUC=0.7815759616760461\n",
      "Full dataset ROC AUC=0.7829250005648211\n",
      "Drop in ROC AUC=0.0013490388887749116\n",
      "keep:  poly_features_max\n",
      "\n",
      "testing feature:  zero_crossing_rate_max 21  out of  30\n",
      "New Test ROC AUC=0.7742287290562876\n",
      "Full dataset ROC AUC=0.7829250005648211\n",
      "Drop in ROC AUC=0.00869627150853347\n",
      "keep:  zero_crossing_rate_max\n",
      "\n",
      "testing feature:  mfcc_max 22  out of  30\n",
      "New Test ROC AUC=0.7768940935640398\n",
      "Full dataset ROC AUC=0.7829250005648211\n",
      "Drop in ROC AUC=0.006030907000781238\n",
      "keep:  mfcc_max\n",
      "\n",
      "testing feature:  spectral_rolloff_min 23  out of  30\n",
      "New Test ROC AUC=0.7809813973466267\n",
      "Full dataset ROC AUC=0.7829250005648211\n",
      "Drop in ROC AUC=0.001943603218194312\n",
      "keep:  spectral_rolloff_min\n",
      "\n",
      "testing feature:  spectral_bandwidth_min 24  out of  30\n",
      "New Test ROC AUC=0.7801909481070151\n",
      "Full dataset ROC AUC=0.7829250005648211\n",
      "Drop in ROC AUC=0.002734052457806002\n",
      "keep:  spectral_bandwidth_min\n",
      "\n",
      "testing feature:  zero_crossing_rate_min 25  out of  30\n",
      "New Test ROC AUC=0.7773058423533821\n",
      "Full dataset ROC AUC=0.7829250005648211\n",
      "Drop in ROC AUC=0.00561915821143899\n",
      "keep:  zero_crossing_rate_min\n",
      "\n",
      "testing feature:  delta_mfcc_max 26  out of  30\n",
      "New Test ROC AUC=0.7775553954900741\n",
      "Full dataset ROC AUC=0.7829250005648211\n",
      "Drop in ROC AUC=0.00536960507474693\n",
      "keep:  delta_mfcc_max\n",
      "\n",
      "testing feature:  spectral_bandwidth_max 27  out of  30\n",
      "New Test ROC AUC=0.7858754464548987\n",
      "Full dataset ROC AUC=0.7829250005648211\n",
      "Drop in ROC AUC=-0.0029504458900776465\n",
      "remove:  spectral_bandwidth_max\n",
      "\n",
      "testing feature:  spectral_centroid_max 28  out of  30\n",
      "New Test ROC AUC=0.7833117410961886\n",
      "Full dataset ROC AUC=0.7858754464548987\n",
      "Drop in ROC AUC=0.002563705358710089\n",
      "keep:  spectral_centroid_max\n",
      "\n",
      "testing feature:  rms_min 29  out of  30\n",
      "New Test ROC AUC=0.7771859237189075\n",
      "Full dataset ROC AUC=0.7858754464548987\n",
      "Drop in ROC AUC=0.008689522735991217\n",
      "keep:  rms_min\n",
      "\n",
      "testing feature:  mfcc_min 30  out of  30\n",
      "New Test ROC AUC=0.7834230423444375\n",
      "Full dataset ROC AUC=0.7858754464548987\n",
      "Drop in ROC AUC=0.002452404110461215\n",
      "keep:  mfcc_min\n",
      "DONE!!\n",
      "total features to remove:  4\n",
      "total features to keep:  26\n"
     ]
    }
   ],
   "source": [
    "# the final step consists in removing one at a time\n",
    "# all the features, from the least to the most\n",
    "# important, and build an model at each round.\n",
    "\n",
    "# once we build the model, we calculate the new roc-auc\n",
    "\n",
    "# if the new roc-auc is smaller than the original one\n",
    "# (with all the features), then the feature that was removed\n",
    "# was important, and we should keep it.\n",
    "# otherwise, we should remove the feature\n",
    "\n",
    "# recursive feature elimination:\n",
    "\n",
    "# first we arbitrarily set the drop in roc-auc\n",
    "# if the drop is below this threshold,\n",
    "# the feature will be removed\n",
    "tol = 0.0005\n",
    "\n",
    "print('doing recursive feature elimination')\n",
    "\n",
    "# we initialise a list where we will collect the\n",
    "# features we should remove\n",
    "features_to_remove = []\n",
    "\n",
    "# set a counter to know where the loop is\n",
    "count = 1\n",
    "\n",
    "# now we loop over all the features, in order of importance:\n",
    "# remember that features is this list are ordered\n",
    "# by importance\n",
    "for feature in features:\n",
    "    \n",
    "    print()\n",
    "    print('testing feature: ', feature, count, ' out of ', len(features))\n",
    "    count = count + 1\n",
    "\n",
    "    # initialise model\n",
    "    model_int = GradientBoostingClassifier(n_estimators=10, max_depth=4, random_state=10)\n",
    "\n",
    "    # fit model with all variables, minus the feature to be evaluated\n",
    "    # and also minus all features that were deemed to be removed\n",
    "    \n",
    "    # note that features_to_remove will be empty in the first rounds\n",
    "    # but will have features as the loop proceeds\n",
    "    model_int.fit(\n",
    "        X_train.drop(features_to_remove + [feature], axis=1), y_train)\n",
    "\n",
    "    # make a prediction using the test set\n",
    "    y_pred_test = model_int.predict_proba(\n",
    "        X_test.drop(features_to_remove + [feature], axis=1))\n",
    "\n",
    "    # calculate the new roc-auc\n",
    "    roc_int = roc_auc_score(y_test, y_pred_test,multi_class=\"ovr\")\n",
    "    print('New Test ROC AUC={}'.format((roc_int)))\n",
    "\n",
    "    # print the original roc-auc with all the features\n",
    "    print('Full dataset ROC AUC={}'.format((roc_full)))\n",
    "\n",
    "    # determine the drop in the roc-auc\n",
    "    diff_roc = roc_full - roc_int\n",
    "\n",
    "    # compare the drop in roc-auc with the tolerance\n",
    "    # we set previously\n",
    "    if diff_roc >= tol:\n",
    "        print('Drop in ROC AUC={}'.format(diff_roc))\n",
    "        print('keep: ', feature)\n",
    "        print\n",
    "    else:\n",
    "        print('Drop in ROC AUC={}'.format(diff_roc))\n",
    "        print('remove: ', feature)\n",
    "        print\n",
    "        # if the drop in the roc is small and we remove the\n",
    "        # feature, we need to set the new roc to the one based on\n",
    "        # the remaining features\n",
    "        roc_full = roc_int\n",
    "        \n",
    "        # and append the feature to remove to the collecting list\n",
    "        features_to_remove.append(feature)\n",
    "\n",
    "# now the loop is finished, we evaluated all the features\n",
    "print('DONE!!')\n",
    "print('total features to remove: ', len(features_to_remove))\n",
    "\n",
    "# determine the features to keep (those we won't remove)\n",
    "features_to_keep = [x for x in features if x not in features_to_remove]\n",
    "print('total features to keep: ', len(features_to_keep))\n",
    "\n",
    "# Sit back and relax, this will take a while!"
   ]
  },
  {
   "cell_type": "code",
   "execution_count": 20,
   "metadata": {},
   "outputs": [
    {
     "name": "stdout",
     "output_type": "stream",
     "text": [
      "Test selected features ROC AUC=0.969909\n"
     ]
    },
    {
     "data": {
      "text/plain": [
       "['tempogram_min',\n",
       " 'chroma_cens_min',\n",
       " 'melspectogram_min',\n",
       " 'spectral_rolloff_max',\n",
       " 'spectral_flatness_min',\n",
       " 'chroma_cqt_min',\n",
       " 'spectral_centroid_min',\n",
       " 'chroma_cens_max',\n",
       " 'spectral_contrast_max',\n",
       " 'spectral_contrast_min',\n",
       " 'tonnetz_max',\n",
       " 'rms_max',\n",
       " 'mel_to_stft_max',\n",
       " 'poly_features_min',\n",
       " 'delta_mfcc_min',\n",
       " 'spectral_flatness_max',\n",
       " 'poly_features_max',\n",
       " 'zero_crossing_rate_max',\n",
       " 'mfcc_max',\n",
       " 'spectral_rolloff_min',\n",
       " 'spectral_bandwidth_min',\n",
       " 'zero_crossing_rate_min',\n",
       " 'delta_mfcc_max',\n",
       " 'spectral_centroid_max',\n",
       " 'rms_min',\n",
       " 'mfcc_min']"
      ]
     },
     "execution_count": 20,
     "metadata": {},
     "output_type": "execute_result"
    }
   ],
   "source": [
    "# now for comparison, we build a model with the selected features only\n",
    "\n",
    "model_final = GradientBoostingClassifier(n_estimators=10, max_depth=4, random_state=10)\n",
    "\n",
    "# fit the model with the selected features\n",
    "model_final.fit(X_train[features_to_keep], y_train)\n",
    "\n",
    "# make predictions\n",
    "y_pred_test = model_final.predict_proba(X_train[features_to_keep])\n",
    "\n",
    "# calculate roc-auc\n",
    "roc_final = roc_auc_score(y_train, y_pred_test,multi_class=\"ovr\")\n",
    "print('Test selected features ROC AUC=%f' % (roc_final))\n",
    "\n",
    "features_to_keep"
   ]
  },
  {
   "cell_type": "markdown",
   "metadata": {},
   "source": [
    "As you can see, the Gradient Boosting model built with 12 features shows a similar performance than the one built the full dataset (you need to scroll up to find this value, we calculated a few cells ago).\n",
    "\n",
    "**Exercise**\n",
    "Why don't you go ahead and try different values of tolerance? Try with lower and bigger thresholds and get a feeling of how much this affects the number of selected features."
   ]
  },
  {
   "cell_type": "markdown",
   "metadata": {},
   "source": [
    "## Regression"
   ]
  },
  {
   "cell_type": "code",
   "execution_count": 13,
   "metadata": {},
   "outputs": [
    {
     "data": {
      "text/plain": [
       "(1460, 81)"
      ]
     },
     "execution_count": 13,
     "metadata": {},
     "output_type": "execute_result"
    }
   ],
   "source": [
    "# load dataset\n",
    "\n",
    "data = pd.read_csv('../houseprice.csv')\n",
    "data.shape"
   ]
  },
  {
   "cell_type": "code",
   "execution_count": 14,
   "metadata": {},
   "outputs": [
    {
     "data": {
      "text/plain": [
       "(1460, 38)"
      ]
     },
     "execution_count": 14,
     "metadata": {},
     "output_type": "execute_result"
    }
   ],
   "source": [
    "# In practice, feature selection should be done after data pre-processing,\n",
    "# so ideally, all the categorical variables are encoded into numbers,\n",
    "# and then you can assess how deterministic they are of the target\n",
    "\n",
    "# here for simplicity I will use only numerical variables\n",
    "# select numerical columns:\n",
    "\n",
    "numerics = ['int16', 'int32', 'int64', 'float16', 'float32', 'float64']\n",
    "numerical_vars = list(data.select_dtypes(include=numerics).columns)\n",
    "data = data[numerical_vars]\n",
    "data.shape"
   ]
  },
  {
   "cell_type": "code",
   "execution_count": 15,
   "metadata": {},
   "outputs": [
    {
     "data": {
      "text/plain": [
       "((1022, 36), (438, 36))"
      ]
     },
     "execution_count": 15,
     "metadata": {},
     "output_type": "execute_result"
    }
   ],
   "source": [
    "# separate train and test sets\n",
    "X_train, X_test, y_train, y_test = train_test_split(\n",
    "    data.drop(labels=['Id','SalePrice'], axis=1),\n",
    "    data['SalePrice'],\n",
    "    test_size=0.3,\n",
    "    random_state=0)\n",
    "\n",
    "X_train.shape, X_test.shape"
   ]
  },
  {
   "cell_type": "code",
   "execution_count": 16,
   "metadata": {},
   "outputs": [],
   "source": [
    "X_train = X_train.fillna(0)\n",
    "X_test = X_test.fillna(0)"
   ]
  },
  {
   "cell_type": "markdown",
   "metadata": {},
   "source": [
    "### Build ML model with all features"
   ]
  },
  {
   "cell_type": "code",
   "execution_count": 17,
   "metadata": {
    "scrolled": true
   },
   "outputs": [
    {
     "name": "stdout",
     "output_type": "stream",
     "text": [
      "Test full dataset R2 = 0.713130\n"
     ]
    }
   ],
   "source": [
    "# the first step of this procedure consists in building\n",
    "# a machine learning algorithm using all the available features\n",
    "# and then determine the importance of the features according\n",
    "# to the algorithm\n",
    "\n",
    "# build initial model using all the features\n",
    "model_full = GradientBoostingRegressor(n_estimators=10, max_depth=4, random_state=10)\n",
    "\n",
    "model_full.fit(X_train, y_train)\n",
    "\n",
    "# calculate r2 in the test set\n",
    "y_pred_test = model_full.predict(X_test)\n",
    "r2_full = r2_score(y_test, y_pred_test)\n",
    "\n",
    "print('Test full dataset R2 = %f' % (r2_full))"
   ]
  },
  {
   "cell_type": "markdown",
   "metadata": {},
   "source": [
    "### Rank features by importance"
   ]
  },
  {
   "cell_type": "code",
   "execution_count": 18,
   "metadata": {},
   "outputs": [
    {
     "data": {
      "image/png": "[encoded data removed]",
      "text/plain": [
       "<Figure size 1440x432 with 1 Axes>"
      ]
     },
     "metadata": {
      "needs_background": "light"
     },
     "output_type": "display_data"
    }
   ],
   "source": [
    "# the second step consist of deriving the importance of \n",
    "# each feature and ranking them from the least to the most\n",
    "# important\n",
    "\n",
    "# get feature name and importance\n",
    "features = pd.Series(model_full.feature_importances_)\n",
    "features.index = X_train.columns\n",
    "\n",
    "# sort the features by importance\n",
    "features.sort_values(ascending=True, inplace=True)\n",
    "\n",
    "# plot\n",
    "features.plot.bar(figsize=(20,6))\n",
    "plt.xlabel('Features')\n",
    "plt.ylabel('Importance')\n",
    "plt.show()"
   ]
  },
  {
   "cell_type": "code",
   "execution_count": 19,
   "metadata": {
    "scrolled": true
   },
   "outputs": [
    {
     "data": {
      "text/plain": [
       "['BsmtHalfBath',\n",
       " 'LotFrontage',\n",
       " 'MiscVal',\n",
       " 'PoolArea',\n",
       " '3SsnPorch',\n",
       " 'EnclosedPorch',\n",
       " 'OpenPorchSF',\n",
       " 'TotRmsAbvGrd',\n",
       " 'KitchenAbvGr',\n",
       " 'BsmtFinSF2',\n",
       " 'BedroomAbvGr',\n",
       " 'HalfBath',\n",
       " 'BsmtFullBath',\n",
       " 'LowQualFinSF',\n",
       " 'YrSold',\n",
       " 'WoodDeckSF',\n",
       " 'BsmtUnfSF',\n",
       " 'ScreenPorch',\n",
       " 'MoSold',\n",
       " 'GarageYrBlt',\n",
       " 'MSSubClass',\n",
       " 'OverallCond',\n",
       " 'YearRemodAdd',\n",
       " 'Fireplaces',\n",
       " 'GarageArea',\n",
       " 'FullBath',\n",
       " 'YearBuilt',\n",
       " 'LotArea',\n",
       " 'MasVnrArea',\n",
       " '2ndFlrSF',\n",
       " '1stFlrSF',\n",
       " 'TotalBsmtSF',\n",
       " 'BsmtFinSF1',\n",
       " 'GarageCars',\n",
       " 'GrLivArea',\n",
       " 'OverallQual']"
      ]
     },
     "execution_count": 19,
     "metadata": {},
     "output_type": "execute_result"
    }
   ],
   "source": [
    "# make list with ordered features\n",
    "features = list(features.index)\n",
    "features"
   ]
  },
  {
   "cell_type": "markdown",
   "metadata": {},
   "source": [
    "### Select features"
   ]
  },
  {
   "cell_type": "code",
   "execution_count": 20,
   "metadata": {
    "scrolled": true
   },
   "outputs": [
    {
     "name": "stdout",
     "output_type": "stream",
     "text": [
      "doing recursive feature elimination\n",
      "\n",
      "testing feature:  BsmtHalfBath 1  out of  36\n",
      "New Test r2 = 0.7273575444777846\n",
      "All features Test r2 = 0.7131302556471364\n",
      "Drop in r2 = -0.014227288830648166\n",
      "remove:  BsmtHalfBath\n",
      "\n",
      "testing feature:  LotFrontage 2  out of  36\n",
      "New Test r2 = 0.718688691614447\n",
      "All features Test r2 = 0.7273575444777846\n",
      "Drop in r2 =0.008668852863337517\n",
      "keep:  LotFrontage\n",
      "\n",
      "testing feature:  MiscVal 3  out of  36\n",
      "New Test r2 = 0.7134932811944362\n",
      "All features Test r2 = 0.7273575444777846\n",
      "Drop in r2 =0.013864263283348333\n",
      "keep:  MiscVal\n",
      "\n",
      "testing feature:  PoolArea 4  out of  36\n",
      "New Test r2 = 0.7122308203172486\n",
      "All features Test r2 = 0.7273575444777846\n",
      "Drop in r2 =0.015126724160535954\n",
      "keep:  PoolArea\n",
      "\n",
      "testing feature:  3SsnPorch 5  out of  36\n",
      "New Test r2 = 0.7208667083658631\n",
      "All features Test r2 = 0.7273575444777846\n",
      "Drop in r2 =0.006490836111921472\n",
      "keep:  3SsnPorch\n",
      "\n",
      "testing feature:  EnclosedPorch 6  out of  36\n",
      "New Test r2 = 0.7173229445184786\n",
      "All features Test r2 = 0.7273575444777846\n",
      "Drop in r2 =0.010034599959306001\n",
      "keep:  EnclosedPorch\n",
      "\n",
      "testing feature:  OpenPorchSF 7  out of  36\n",
      "New Test r2 = 0.7142241328152739\n",
      "All features Test r2 = 0.7273575444777846\n",
      "Drop in r2 =0.013133411662510697\n",
      "keep:  OpenPorchSF\n",
      "\n",
      "testing feature:  TotRmsAbvGrd 8  out of  36\n",
      "New Test r2 = 0.7039742746083584\n",
      "All features Test r2 = 0.7273575444777846\n",
      "Drop in r2 =0.023383269869426182\n",
      "keep:  TotRmsAbvGrd\n",
      "\n",
      "testing feature:  KitchenAbvGr 9  out of  36\n",
      "New Test r2 = 0.7158212652543341\n",
      "All features Test r2 = 0.7273575444777846\n",
      "Drop in r2 =0.011536279223450463\n",
      "keep:  KitchenAbvGr\n",
      "\n",
      "testing feature:  BsmtFinSF2 10  out of  36\n",
      "New Test r2 = 0.7237574798437062\n",
      "All features Test r2 = 0.7273575444777846\n",
      "Drop in r2 =0.0036000646340783593\n",
      "keep:  BsmtFinSF2\n",
      "\n",
      "testing feature:  BedroomAbvGr 11  out of  36\n",
      "New Test r2 = 0.7207261897526756\n",
      "All features Test r2 = 0.7273575444777846\n",
      "Drop in r2 =0.006631354725109007\n",
      "keep:  BedroomAbvGr\n",
      "\n",
      "testing feature:  HalfBath 12  out of  36\n",
      "New Test r2 = 0.7207261897526756\n",
      "All features Test r2 = 0.7273575444777846\n",
      "Drop in r2 =0.006631354725109007\n",
      "keep:  HalfBath\n",
      "\n",
      "testing feature:  BsmtFullBath 13  out of  36\n",
      "New Test r2 = 0.7207261897526756\n",
      "All features Test r2 = 0.7273575444777846\n",
      "Drop in r2 =0.006631354725109007\n",
      "keep:  BsmtFullBath\n",
      "\n",
      "testing feature:  LowQualFinSF 14  out of  36\n",
      "New Test r2 = 0.7209187435797805\n",
      "All features Test r2 = 0.7273575444777846\n",
      "Drop in r2 =0.006438800898004082\n",
      "keep:  LowQualFinSF\n",
      "\n",
      "testing feature:  YrSold 15  out of  36\n",
      "New Test r2 = 0.7108029537894238\n",
      "All features Test r2 = 0.7273575444777846\n",
      "Drop in r2 =0.016554590688360737\n",
      "keep:  YrSold\n",
      "\n",
      "testing feature:  WoodDeckSF 16  out of  36\n",
      "New Test r2 = 0.7012752445433136\n",
      "All features Test r2 = 0.7273575444777846\n",
      "Drop in r2 =0.026082299934470976\n",
      "keep:  WoodDeckSF\n",
      "\n",
      "testing feature:  BsmtUnfSF 17  out of  36\n",
      "New Test r2 = 0.7264788324034315\n",
      "All features Test r2 = 0.7273575444777846\n",
      "Drop in r2 = 0.000878712074353083\n",
      "remove:  BsmtUnfSF\n",
      "\n",
      "testing feature:  ScreenPorch 18  out of  36\n",
      "New Test r2 = 0.7244064441838435\n",
      "All features Test r2 = 0.7264788324034315\n",
      "Drop in r2 =0.002072388219587995\n",
      "keep:  ScreenPorch\n",
      "\n",
      "testing feature:  MoSold 19  out of  36\n",
      "New Test r2 = 0.7267509916544868\n",
      "All features Test r2 = 0.7264788324034315\n",
      "Drop in r2 = -0.0002721592510552817\n",
      "remove:  MoSold\n",
      "\n",
      "testing feature:  GarageYrBlt 20  out of  36\n",
      "New Test r2 = 0.7258441093878714\n",
      "All features Test r2 = 0.7267509916544868\n",
      "Drop in r2 = 0.0009068822666153942\n",
      "remove:  GarageYrBlt\n",
      "\n",
      "testing feature:  MSSubClass 21  out of  36\n",
      "New Test r2 = 0.7174593051728644\n",
      "All features Test r2 = 0.7258441093878714\n",
      "Drop in r2 =0.00838480421500698\n",
      "keep:  MSSubClass\n",
      "\n",
      "testing feature:  OverallCond 22  out of  36\n",
      "New Test r2 = 0.7147536088672792\n",
      "All features Test r2 = 0.7258441093878714\n",
      "Drop in r2 =0.011090500520592128\n",
      "keep:  OverallCond\n",
      "\n",
      "testing feature:  YearRemodAdd 23  out of  36\n",
      "New Test r2 = 0.7065236132442687\n",
      "All features Test r2 = 0.7258441093878714\n",
      "Drop in r2 =0.01932049614360265\n",
      "keep:  YearRemodAdd\n",
      "\n",
      "testing feature:  Fireplaces 24  out of  36\n",
      "New Test r2 = 0.7250286036957919\n",
      "All features Test r2 = 0.7258441093878714\n",
      "Drop in r2 = 0.0008155056920794435\n",
      "remove:  Fireplaces\n",
      "\n",
      "testing feature:  GarageArea 25  out of  36\n",
      "New Test r2 = 0.7226877689784099\n",
      "All features Test r2 = 0.7250286036957919\n",
      "Drop in r2 =0.002340834717382001\n",
      "keep:  GarageArea\n",
      "\n",
      "testing feature:  FullBath 26  out of  36\n",
      "New Test r2 = 0.7232754266911559\n",
      "All features Test r2 = 0.7250286036957919\n",
      "Drop in r2 =0.001753177004636064\n",
      "keep:  FullBath\n",
      "\n",
      "testing feature:  YearBuilt 27  out of  36\n",
      "New Test r2 = 0.6989563215988124\n",
      "All features Test r2 = 0.7250286036957919\n",
      "Drop in r2 =0.026072282096979538\n",
      "keep:  YearBuilt\n",
      "\n",
      "testing feature:  LotArea 28  out of  36\n",
      "New Test r2 = 0.7099584133000495\n",
      "All features Test r2 = 0.7250286036957919\n",
      "Drop in r2 =0.015070190395742422\n",
      "keep:  LotArea\n",
      "\n",
      "testing feature:  MasVnrArea 29  out of  36\n",
      "New Test r2 = 0.7260423255585469\n",
      "All features Test r2 = 0.7250286036957919\n",
      "Drop in r2 = -0.001013721862754946\n",
      "remove:  MasVnrArea\n",
      "\n",
      "testing feature:  2ndFlrSF 30  out of  36\n",
      "New Test r2 = 0.734389962031819\n",
      "All features Test r2 = 0.7260423255585469\n",
      "Drop in r2 = -0.00834763647327219\n",
      "remove:  2ndFlrSF\n",
      "\n",
      "testing feature:  1stFlrSF 31  out of  36\n",
      "New Test r2 = 0.7215269443186569\n",
      "All features Test r2 = 0.734389962031819\n",
      "Drop in r2 =0.012863017713162117\n",
      "keep:  1stFlrSF\n",
      "\n",
      "testing feature:  TotalBsmtSF 32  out of  36\n",
      "New Test r2 = 0.7342030398813533\n",
      "All features Test r2 = 0.734389962031819\n",
      "Drop in r2 = 0.00018692215046578475\n",
      "remove:  TotalBsmtSF\n",
      "\n",
      "testing feature:  BsmtFinSF1 33  out of  36\n",
      "New Test r2 = 0.7270911602938694\n",
      "All features Test r2 = 0.7342030398813533\n",
      "Drop in r2 =0.007111879587483827\n",
      "keep:  BsmtFinSF1\n",
      "\n",
      "testing feature:  GarageCars 34  out of  36\n",
      "New Test r2 = 0.7249153731906235\n",
      "All features Test r2 = 0.7342030398813533\n",
      "Drop in r2 =0.009287666690729779\n",
      "keep:  GarageCars\n",
      "\n",
      "testing feature:  GrLivArea 35  out of  36\n",
      "New Test r2 = 0.7066440672307844\n",
      "All features Test r2 = 0.7342030398813533\n",
      "Drop in r2 =0.027558972650568836\n",
      "keep:  GrLivArea\n",
      "\n",
      "testing feature:  OverallQual 36  out of  36\n",
      "New Test r2 = 0.6661588757546772\n",
      "All features Test r2 = 0.7342030398813533\n",
      "Drop in r2 =0.06804416412667602\n",
      "keep:  OverallQual\n",
      "DONE!!\n",
      "total features to remove:  8\n",
      "total features to keep:  28\n"
     ]
    }
   ],
   "source": [
    "# the final step consists in removing one at a time\n",
    "# all the features, from the least to the most\n",
    "# important, and build model at each round.\n",
    "\n",
    "# once we build the model, we calculate the new r2\n",
    "# if the new r2 is smaller than the original one\n",
    "# (with all the features), then that feature that was removed\n",
    "# was important, and we should keep it.\n",
    "# otherwise, we should remove the feature\n",
    "\n",
    "# recursive feature elimination:\n",
    "\n",
    "# first we arbitrarily set the drop in r2\n",
    "# if the drop is below this threshold,\n",
    "# the feature will be removed\n",
    "tol = 0.001\n",
    "\n",
    "print('doing recursive feature elimination')\n",
    "\n",
    "# we initialise a list where we will collect the\n",
    "# features we should remove\n",
    "features_to_remove = []\n",
    "\n",
    "# set a counter to know which feature is being evaluated\n",
    "count = 1\n",
    "\n",
    "# now we loop over all the features, in order of importance:\n",
    "# remember that features in the list are ordered\n",
    "# by importance\n",
    "for feature in features:\n",
    "    print()\n",
    "    print('testing feature: ', feature, count, ' out of ', len(features))\n",
    "    count = count + 1\n",
    "\n",
    "    # initialise model\n",
    "    model_int = GradientBoostingRegressor(n_estimators=10, max_depth=4, random_state=10)\n",
    "\n",
    "    # fit model with all variables minus the removed features\n",
    "    # and the feature to be evaluated\n",
    "    model_int.fit(\n",
    "        X_train.drop(features_to_remove + [feature], axis=1), y_train)\n",
    "\n",
    "    # make a prediction over the test set\n",
    "    y_pred_test = model_int.predict(\n",
    "        X_test.drop(features_to_remove + [feature], axis=1))\n",
    "\n",
    "    # calculate the new r2\n",
    "    r2_int = r2_score(y_test, y_pred_test)\n",
    "    print('New Test r2 = {}'.format((r2_int)))\n",
    "\n",
    "    # print the original r2 with all the features\n",
    "    print('All features Test r2 = {}'.format((r2_full)))\n",
    "\n",
    "    # determine the drop in the r2\n",
    "    diff_r2 = r2_full - r2_int\n",
    "\n",
    "    # compare the drop in r2 with the tolerance\n",
    "    # we set previously\n",
    "    if diff_r2 >= tol:\n",
    "        print('Drop in r2 ={}'.format(diff_r2))\n",
    "        print('keep: ', feature)\n",
    "        print\n",
    "    else:\n",
    "        print('Drop in r2 = {}'.format(diff_r2))\n",
    "        print('remove: ', feature)\n",
    "        print\n",
    "        # if the drop in the r2 is small and we remove the\n",
    "        # feature, we need to set the new r2 to the one based on\n",
    "        # the remaining features\n",
    "        r2_full = r2_int\n",
    "        \n",
    "        # and append the feature to remove to the collecting list\n",
    "        features_to_remove.append(feature)\n",
    "\n",
    "# now the loop is finished, we evaluated all the features\n",
    "print('DONE!!')\n",
    "print('total features to remove: ', len(features_to_remove))\n",
    "\n",
    "# determine the features to keep (those we won't remove)\n",
    "features_to_keep = [x for x in features if x not in features_to_remove]\n",
    "print('total features to keep: ', len(features_to_keep))"
   ]
  },
  {
   "cell_type": "code",
   "execution_count": 21,
   "metadata": {},
   "outputs": [
    {
     "name": "stdout",
     "output_type": "stream",
     "text": [
      "Test selected features r2 = 0.732437\n",
      "Test all features r2 = 0.734203\n"
     ]
    }
   ],
   "source": [
    "# finally let's test the performance of the model \n",
    "# built on the selected features\n",
    "\n",
    "# build initial model\n",
    "model_final = GradientBoostingRegressor(n_estimators=10, max_depth=4, random_state=10)\n",
    "\n",
    "# fit the model with the selected features\n",
    "model_final.fit(X_train[features_to_keep], y_train)\n",
    "\n",
    "# make predictions\n",
    "y_pred_test = model_final.predict(X_test[features_to_keep])\n",
    "\n",
    "# calculate roc-auc\n",
    "r2_final = r2_score(y_test, y_pred_test)\n",
    "print('Test selected features r2 = %f' % (r2_final))"
   ]
  },
  {
   "cell_type": "markdown",
   "metadata": {},
   "source": [
    "The model built with 28 features shows similar or slightly better performance! (you need to scroll up to find this value, we calculated a few cells ago)."
   ]
  },
  {
   "cell_type": "markdown",
   "metadata": {},
   "source": [
    "That is all for this lecture, I hope you enjoyed it and see you in the next one!"
   ]
  }
 ],
 "metadata": {
  "kernelspec": {
   "display_name": "Python 3",
   "language": "python",
   "name": "python3"
  },
  "language_info": {
   "codemirror_mode": {
    "name": "ipython",
    "version": 3
   },
   "file_extension": ".py",
   "mimetype": "text/x-python",
   "name": "python",
   "nbconvert_exporter": "python",
   "pygments_lexer": "ipython3",
   "version": "3.7.5"
  },
  "toc": {
   "base_numbering": 1,
   "nav_menu": {},
   "number_sections": true,
   "sideBar": true,
   "skip_h1_title": false,
   "title_cell": "Table of Contents",
   "title_sidebar": "Contents",
   "toc_cell": false,
   "toc_position": {},
   "toc_section_display": "block",
   "toc_window_display": true
  }
 },
 "nbformat": 4,
 "nbformat_minor": 2
}
