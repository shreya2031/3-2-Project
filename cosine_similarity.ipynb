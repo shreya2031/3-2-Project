{
 "cells": [
  {
   "cell_type": "code",
   "execution_count": 1,
   "metadata": {},
   "outputs": [],
   "source": [
    "import pandas as pd\n",
    "import numpy as np\n",
    "import matplotlib.pyplot as plt"
   ]
  },
  {
   "cell_type": "code",
   "execution_count": 22,
   "metadata": {},
   "outputs": [],
   "source": [
    "df_og = pd.read_csv('C:/Users/Sahithi Venkatesan/Downloads/Genre')"
   ]
  },
  {
   "cell_type": "code",
   "execution_count": 23,
   "metadata": {},
   "outputs": [
    {
     "data": {
      "text/html": [
       "<div>\n",
       "<style scoped>\n",
       "    .dataframe tbody tr th:only-of-type {\n",
       "        vertical-align: middle;\n",
       "    }\n",
       "\n",
       "    .dataframe tbody tr th {\n",
       "        vertical-align: top;\n",
       "    }\n",
       "\n",
       "    .dataframe thead th {\n",
       "        text-align: right;\n",
       "    }\n",
       "</style>\n",
       "<table border=\"1\" class=\"dataframe\">\n",
       "  <thead>\n",
       "    <tr style=\"text-align: right;\">\n",
       "      <th></th>\n",
       "      <th>chroma_stft_min</th>\n",
       "      <th>chroma_stft_max</th>\n",
       "      <th>chroma_cqt_min</th>\n",
       "      <th>chroma_cqt_max</th>\n",
       "      <th>chroma_cens_min</th>\n",
       "      <th>chroma_cens_max</th>\n",
       "      <th>melspectogram_min</th>\n",
       "      <th>melspectogram_max</th>\n",
       "      <th>mfcc_min</th>\n",
       "      <th>mfcc_max</th>\n",
       "      <th>...</th>\n",
       "      <th>zero_crossing_rate_min</th>\n",
       "      <th>zero_crossing_rate_max</th>\n",
       "      <th>tempogram_min</th>\n",
       "      <th>tempogram_max</th>\n",
       "      <th>delta_mfcc_min</th>\n",
       "      <th>delta_mfcc_max</th>\n",
       "      <th>mel_to_stft_min</th>\n",
       "      <th>mel_to_stft_max</th>\n",
       "      <th>class</th>\n",
       "      <th>song</th>\n",
       "    </tr>\n",
       "  </thead>\n",
       "  <tbody>\n",
       "    <tr>\n",
       "      <th>0</th>\n",
       "      <td>0.000465</td>\n",
       "      <td>1.0</td>\n",
       "      <td>0.015500</td>\n",
       "      <td>1.0</td>\n",
       "      <td>0.000000</td>\n",
       "      <td>0.896673</td>\n",
       "      <td>4.632946e-06</td>\n",
       "      <td>8115.67330</td>\n",
       "      <td>-179.93100</td>\n",
       "      <td>152.82954</td>\n",
       "      <td>...</td>\n",
       "      <td>0.017578</td>\n",
       "      <td>0.510742</td>\n",
       "      <td>-3.406304e-16</td>\n",
       "      <td>1.0</td>\n",
       "      <td>-22.534570</td>\n",
       "      <td>24.518091</td>\n",
       "      <td>0.0</td>\n",
       "      <td>19.284609</td>\n",
       "      <td>0</td>\n",
       "      <td>Sai Aaye Ghar Mere_shortened.wav</td>\n",
       "    </tr>\n",
       "    <tr>\n",
       "      <th>1</th>\n",
       "      <td>0.000995</td>\n",
       "      <td>1.0</td>\n",
       "      <td>0.055937</td>\n",
       "      <td>1.0</td>\n",
       "      <td>0.015298</td>\n",
       "      <td>0.711400</td>\n",
       "      <td>4.666356e-07</td>\n",
       "      <td>911.08636</td>\n",
       "      <td>-205.91670</td>\n",
       "      <td>153.33410</td>\n",
       "      <td>...</td>\n",
       "      <td>0.044922</td>\n",
       "      <td>0.393555</td>\n",
       "      <td>-2.902552e-16</td>\n",
       "      <td>1.0</td>\n",
       "      <td>-24.840630</td>\n",
       "      <td>25.185534</td>\n",
       "      <td>0.0</td>\n",
       "      <td>10.810534</td>\n",
       "      <td>0</td>\n",
       "      <td>Sai Baba De Kol_shortened.wav</td>\n",
       "    </tr>\n",
       "    <tr>\n",
       "      <th>2</th>\n",
       "      <td>0.002606</td>\n",
       "      <td>1.0</td>\n",
       "      <td>0.045407</td>\n",
       "      <td>1.0</td>\n",
       "      <td>0.000000</td>\n",
       "      <td>0.748225</td>\n",
       "      <td>1.753200e-06</td>\n",
       "      <td>4857.33900</td>\n",
       "      <td>-153.78363</td>\n",
       "      <td>138.30722</td>\n",
       "      <td>...</td>\n",
       "      <td>0.023438</td>\n",
       "      <td>0.501953</td>\n",
       "      <td>-3.060497e-16</td>\n",
       "      <td>1.0</td>\n",
       "      <td>-22.603357</td>\n",
       "      <td>29.282093</td>\n",
       "      <td>0.0</td>\n",
       "      <td>17.607744</td>\n",
       "      <td>0</td>\n",
       "      <td>Sai Baba Humko_shortened.wav</td>\n",
       "    </tr>\n",
       "    <tr>\n",
       "      <th>3</th>\n",
       "      <td>0.001447</td>\n",
       "      <td>1.0</td>\n",
       "      <td>0.041263</td>\n",
       "      <td>1.0</td>\n",
       "      <td>0.000000</td>\n",
       "      <td>0.782758</td>\n",
       "      <td>3.110815e-07</td>\n",
       "      <td>3757.07840</td>\n",
       "      <td>-194.94710</td>\n",
       "      <td>146.71315</td>\n",
       "      <td>...</td>\n",
       "      <td>0.020508</td>\n",
       "      <td>0.225586</td>\n",
       "      <td>-3.021884e-16</td>\n",
       "      <td>1.0</td>\n",
       "      <td>-23.918428</td>\n",
       "      <td>24.815857</td>\n",
       "      <td>0.0</td>\n",
       "      <td>15.681977</td>\n",
       "      <td>0</td>\n",
       "      <td>Sai Baba Ji Kar Do_shortened.wav</td>\n",
       "    </tr>\n",
       "    <tr>\n",
       "      <th>4</th>\n",
       "      <td>0.002157</td>\n",
       "      <td>1.0</td>\n",
       "      <td>0.040596</td>\n",
       "      <td>1.0</td>\n",
       "      <td>0.001198</td>\n",
       "      <td>0.717803</td>\n",
       "      <td>5.209164e-06</td>\n",
       "      <td>4824.61400</td>\n",
       "      <td>-189.73987</td>\n",
       "      <td>157.58157</td>\n",
       "      <td>...</td>\n",
       "      <td>0.020020</td>\n",
       "      <td>0.328613</td>\n",
       "      <td>-3.976393e-16</td>\n",
       "      <td>1.0</td>\n",
       "      <td>-19.628017</td>\n",
       "      <td>24.007666</td>\n",
       "      <td>0.0</td>\n",
       "      <td>16.976337</td>\n",
       "      <td>0</td>\n",
       "      <td>Sai Baba Mujhe Gale Se_shortened.wav</td>\n",
       "    </tr>\n",
       "  </tbody>\n",
       "</table>\n",
       "<p>5 rows × 36 columns</p>\n",
       "</div>"
      ],
      "text/plain": [
       "   chroma_stft_min  chroma_stft_max  chroma_cqt_min  chroma_cqt_max  \\\n",
       "0         0.000465              1.0        0.015500             1.0   \n",
       "1         0.000995              1.0        0.055937             1.0   \n",
       "2         0.002606              1.0        0.045407             1.0   \n",
       "3         0.001447              1.0        0.041263             1.0   \n",
       "4         0.002157              1.0        0.040596             1.0   \n",
       "\n",
       "   chroma_cens_min  chroma_cens_max  melspectogram_min  melspectogram_max  \\\n",
       "0         0.000000         0.896673       4.632946e-06         8115.67330   \n",
       "1         0.015298         0.711400       4.666356e-07          911.08636   \n",
       "2         0.000000         0.748225       1.753200e-06         4857.33900   \n",
       "3         0.000000         0.782758       3.110815e-07         3757.07840   \n",
       "4         0.001198         0.717803       5.209164e-06         4824.61400   \n",
       "\n",
       "    mfcc_min   mfcc_max  ...  zero_crossing_rate_min  zero_crossing_rate_max  \\\n",
       "0 -179.93100  152.82954  ...                0.017578                0.510742   \n",
       "1 -205.91670  153.33410  ...                0.044922                0.393555   \n",
       "2 -153.78363  138.30722  ...                0.023438                0.501953   \n",
       "3 -194.94710  146.71315  ...                0.020508                0.225586   \n",
       "4 -189.73987  157.58157  ...                0.020020                0.328613   \n",
       "\n",
       "   tempogram_min  tempogram_max  delta_mfcc_min  delta_mfcc_max  \\\n",
       "0  -3.406304e-16            1.0      -22.534570       24.518091   \n",
       "1  -2.902552e-16            1.0      -24.840630       25.185534   \n",
       "2  -3.060497e-16            1.0      -22.603357       29.282093   \n",
       "3  -3.021884e-16            1.0      -23.918428       24.815857   \n",
       "4  -3.976393e-16            1.0      -19.628017       24.007666   \n",
       "\n",
       "   mel_to_stft_min  mel_to_stft_max  class  \\\n",
       "0              0.0        19.284609      0   \n",
       "1              0.0        10.810534      0   \n",
       "2              0.0        17.607744      0   \n",
       "3              0.0        15.681977      0   \n",
       "4              0.0        16.976337      0   \n",
       "\n",
       "                                   song  \n",
       "0      Sai Aaye Ghar Mere_shortened.wav  \n",
       "1         Sai Baba De Kol_shortened.wav  \n",
       "2          Sai Baba Humko_shortened.wav  \n",
       "3      Sai Baba Ji Kar Do_shortened.wav  \n",
       "4  Sai Baba Mujhe Gale Se_shortened.wav  \n",
       "\n",
       "[5 rows x 36 columns]"
      ]
     },
     "execution_count": 23,
     "metadata": {},
     "output_type": "execute_result"
    }
   ],
   "source": [
    "df_og.head()"
   ]
  },
  {
   "cell_type": "code",
   "execution_count": 35,
   "metadata": {},
   "outputs": [],
   "source": [
    "# Dropping text values (we'll be using them in another approach).\n",
    "df = df_og.drop([\"song\"],axis=1)"
   ]
  },
  {
   "cell_type": "code",
   "execution_count": 36,
   "metadata": {},
   "outputs": [],
   "source": [
    "df_numpy = df.to_numpy()"
   ]
  },
  {
   "cell_type": "code",
   "execution_count": 37,
   "metadata": {},
   "outputs": [
    {
     "data": {
      "text/plain": [
       "(1004, 35)"
      ]
     },
     "execution_count": 37,
     "metadata": {},
     "output_type": "execute_result"
    }
   ],
   "source": [
    "df_numpy.shape"
   ]
  },
  {
   "cell_type": "code",
   "execution_count": 38,
   "metadata": {},
   "outputs": [],
   "source": [
    "from sklearn.metrics.pairwise import cosine_similarity\n",
    "# Finding the cosine distance of every record with every other record in the dataset.\n",
    "cosine_sim = cosine_similarity(df_numpy,df_numpy)"
   ]
  },
  {
   "cell_type": "code",
   "execution_count": 39,
   "metadata": {},
   "outputs": [
    {
     "data": {
      "text/plain": [
       "(1004, 1004)"
      ]
     },
     "execution_count": 39,
     "metadata": {},
     "output_type": "execute_result"
    }
   ],
   "source": [
    "cosine_sim.shape"
   ]
  },
  {
   "cell_type": "code",
   "execution_count": 40,
   "metadata": {},
   "outputs": [
    {
     "data": {
      "text/plain": [
       "chroma_stft_min                                   0.000860859\n",
       "chroma_stft_max                                             1\n",
       "chroma_cqt_min                                      0.0508676\n",
       "chroma_cqt_max                                              1\n",
       "chroma_cens_min                                    0.00266263\n",
       "chroma_cens_max                                      0.669181\n",
       "melspectogram_min                                 7.05729e-07\n",
       "melspectogram_max                                     3503.69\n",
       "mfcc_min                                             -240.525\n",
       "mfcc_max                                              159.759\n",
       "rms_min                                             0.0588894\n",
       "rms_max                                              0.410552\n",
       "spectral_centroid_min                                 1055.58\n",
       "spectral_centroid_max                                 5387.13\n",
       "spectral_bandwidth_min                                1571.34\n",
       "spectral_bandwidth_max                                3244.38\n",
       "spectral_contrast_min                                 4.59455\n",
       "spectral_contrast_max                                 43.9783\n",
       "spectral_flatness_min                             0.000247351\n",
       "spectral_flatness_max                                0.238332\n",
       "spectral_rolloff_min                                  2077.95\n",
       "spectral_rolloff_max                                  8462.55\n",
       "poly_features_min                                    0.351671\n",
       "poly_features_max                                     5.27869\n",
       "tonnetz_min                                          -0.48889\n",
       "tonnetz_max                                          0.461062\n",
       "zero_crossing_rate_min                              0.0131836\n",
       "zero_crossing_rate_max                               0.347656\n",
       "tempogram_min                                    -3.05716e-16\n",
       "tempogram_max                                               1\n",
       "delta_mfcc_min                                       -36.1842\n",
       "delta_mfcc_max                                        39.2602\n",
       "mel_to_stft_min                                             0\n",
       "mel_to_stft_max                                       15.7926\n",
       "class                                                       0\n",
       "song                      Sai Ji Ko Premlata Se_shortened.wav\n",
       "Name: 10, dtype: object"
      ]
     },
     "execution_count": 40,
     "metadata": {},
     "output_type": "execute_result"
    }
   ],
   "source": [
    "df_og.iloc[10]"
   ]
  },
  {
   "cell_type": "code",
   "execution_count": 41,
   "metadata": {},
   "outputs": [],
   "source": [
    "# Sorting the cosine distances of the input song with other songs in the ascending order. \n",
    "score_series = pd.Series(cosine_sim[2]).sort_values(ascending=False)"
   ]
  },
  {
   "cell_type": "code",
   "execution_count": 42,
   "metadata": {},
   "outputs": [],
   "source": [
    "# Selecting indices of 5 songs which are closest to the input song.\n",
    "top_5_indexes = list(score_series.iloc[1:6].index)"
   ]
  },
  {
   "cell_type": "code",
   "execution_count": 43,
   "metadata": {},
   "outputs": [
    {
     "data": {
      "text/plain": [
       "[253, 197, 177, 35, 7]"
      ]
     },
     "execution_count": 43,
     "metadata": {},
     "output_type": "execute_result"
    }
   ],
   "source": [
    "top_5_indexes"
   ]
  },
  {
   "cell_type": "code",
   "execution_count": 44,
   "metadata": {},
   "outputs": [],
   "source": [
    "# Deriving the names of the recommended songs from the original dataset.\n",
    "recommended_songs = []\n",
    "for i in top_5_indexes:\n",
    "        recommended_songs.append((list(df_og.song)[i]))"
   ]
  },
  {
   "cell_type": "code",
   "execution_count": 45,
   "metadata": {},
   "outputs": [
    {
     "data": {
      "text/plain": [
       "['Aayat (4)_shortened.wav',\n",
       " 'Ye Vrindavan_shortened.wav',\n",
       " 'Uth Jaag Musaafir_shortened.wav',\n",
       " 'Sai Sarkaar_shortened.wav',\n",
       " 'Sai Bol Shiv Sai Bol_shortened.wav']"
      ]
     },
     "execution_count": 45,
     "metadata": {},
     "output_type": "execute_result"
    }
   ],
   "source": [
    "# Printing the recommended songs.\n",
    "recommended_songs"
   ]
  },
  {
   "cell_type": "code",
   "execution_count": 231,
   "metadata": {},
   "outputs": [],
   "source": [
    "import pandas as pd\n",
    "import numpy as np\n",
    "import matplotlib.pyplot as plt"
   ]
  },
  {
   "cell_type": "code",
   "execution_count": 232,
   "metadata": {},
   "outputs": [],
   "source": [
    "df_og = pd.read_csv('C:/Users/Sahithi Venkatesan/Downloads/Genre2.csv')"
   ]
  },
  {
   "cell_type": "code",
   "execution_count": 233,
   "metadata": {},
   "outputs": [
    {
     "data": {
      "text/html": [
       "<div>\n",
       "<style scoped>\n",
       "    .dataframe tbody tr th:only-of-type {\n",
       "        vertical-align: middle;\n",
       "    }\n",
       "\n",
       "    .dataframe tbody tr th {\n",
       "        vertical-align: top;\n",
       "    }\n",
       "\n",
       "    .dataframe thead th {\n",
       "        text-align: right;\n",
       "    }\n",
       "</style>\n",
       "<table border=\"1\" class=\"dataframe\">\n",
       "  <thead>\n",
       "    <tr style=\"text-align: right;\">\n",
       "      <th></th>\n",
       "      <th>chroma_stft_min</th>\n",
       "      <th>chroma_stft_max</th>\n",
       "      <th>chroma_cqt_min</th>\n",
       "      <th>chroma_cqt_max</th>\n",
       "      <th>chroma_cens_min</th>\n",
       "      <th>chroma_cens_max</th>\n",
       "      <th>melspectogram_min</th>\n",
       "      <th>melspectogram_max</th>\n",
       "      <th>mfcc_min</th>\n",
       "      <th>mfcc_max</th>\n",
       "      <th>...</th>\n",
       "      <th>zero_crossing_rate_min</th>\n",
       "      <th>zero_crossing_rate_max</th>\n",
       "      <th>tempogram_min</th>\n",
       "      <th>tempogram_max</th>\n",
       "      <th>delta_mfcc_min</th>\n",
       "      <th>delta_mfcc_max</th>\n",
       "      <th>mel_to_stft_min</th>\n",
       "      <th>mel_to_stft_max</th>\n",
       "      <th>class</th>\n",
       "      <th>song</th>\n",
       "    </tr>\n",
       "  </thead>\n",
       "  <tbody>\n",
       "    <tr>\n",
       "      <th>0</th>\n",
       "      <td>0.002363</td>\n",
       "      <td>1</td>\n",
       "      <td>0.037930</td>\n",
       "      <td>1</td>\n",
       "      <td>0.0</td>\n",
       "      <td>0.728315</td>\n",
       "      <td>1.670000e-08</td>\n",
       "      <td>586.00885</td>\n",
       "      <td>-356.02954</td>\n",
       "      <td>151.45206</td>\n",
       "      <td>...</td>\n",
       "      <td>0.038574</td>\n",
       "      <td>0.250000</td>\n",
       "      <td>-2.910000e-16</td>\n",
       "      <td>1</td>\n",
       "      <td>-25.383160</td>\n",
       "      <td>33.407772</td>\n",
       "      <td>0</td>\n",
       "      <td>10.061595</td>\n",
       "      <td>1</td>\n",
       "      <td>Aravindha Padhamalar(Sanjay) (padhamalarsanjay...</td>\n",
       "    </tr>\n",
       "    <tr>\n",
       "      <th>1</th>\n",
       "      <td>0.002700</td>\n",
       "      <td>1</td>\n",
       "      <td>0.045566</td>\n",
       "      <td>1</td>\n",
       "      <td>0.0</td>\n",
       "      <td>0.759315</td>\n",
       "      <td>7.530000e-11</td>\n",
       "      <td>977.43005</td>\n",
       "      <td>-335.37494</td>\n",
       "      <td>254.50607</td>\n",
       "      <td>...</td>\n",
       "      <td>0.022461</td>\n",
       "      <td>0.120117</td>\n",
       "      <td>-4.690000e-16</td>\n",
       "      <td>1</td>\n",
       "      <td>-11.061906</td>\n",
       "      <td>18.780472</td>\n",
       "      <td>0</td>\n",
       "      <td>11.523597</td>\n",
       "      <td>1</td>\n",
       "      <td>Concord (1)_shortened.wav</td>\n",
       "    </tr>\n",
       "    <tr>\n",
       "      <th>2</th>\n",
       "      <td>0.001414</td>\n",
       "      <td>1</td>\n",
       "      <td>0.044079</td>\n",
       "      <td>1</td>\n",
       "      <td>0.0</td>\n",
       "      <td>0.679270</td>\n",
       "      <td>6.410000e-09</td>\n",
       "      <td>568.66420</td>\n",
       "      <td>-293.80838</td>\n",
       "      <td>198.69958</td>\n",
       "      <td>...</td>\n",
       "      <td>0.030273</td>\n",
       "      <td>0.145508</td>\n",
       "      <td>-3.300000e-16</td>\n",
       "      <td>1</td>\n",
       "      <td>-19.549503</td>\n",
       "      <td>23.144491</td>\n",
       "      <td>0</td>\n",
       "      <td>10.311871</td>\n",
       "      <td>1</td>\n",
       "      <td>Antakaana Dootharige_shortened.wav</td>\n",
       "    </tr>\n",
       "    <tr>\n",
       "      <th>3</th>\n",
       "      <td>0.001354</td>\n",
       "      <td>1</td>\n",
       "      <td>0.026659</td>\n",
       "      <td>1</td>\n",
       "      <td>0.0</td>\n",
       "      <td>0.873235</td>\n",
       "      <td>1.110000e-08</td>\n",
       "      <td>1504.75660</td>\n",
       "      <td>-259.55872</td>\n",
       "      <td>153.21075</td>\n",
       "      <td>...</td>\n",
       "      <td>0.023438</td>\n",
       "      <td>0.637695</td>\n",
       "      <td>-3.180000e-16</td>\n",
       "      <td>1</td>\n",
       "      <td>-25.631940</td>\n",
       "      <td>25.046516</td>\n",
       "      <td>0</td>\n",
       "      <td>12.819838</td>\n",
       "      <td>1</td>\n",
       "      <td>Anila Tharala (2)_shortened.wav</td>\n",
       "    </tr>\n",
       "    <tr>\n",
       "      <th>4</th>\n",
       "      <td>0.000101</td>\n",
       "      <td>1</td>\n",
       "      <td>0.013519</td>\n",
       "      <td>1</td>\n",
       "      <td>0.0</td>\n",
       "      <td>0.828410</td>\n",
       "      <td>1.690000e-10</td>\n",
       "      <td>948.40400</td>\n",
       "      <td>-506.98685</td>\n",
       "      <td>249.32812</td>\n",
       "      <td>...</td>\n",
       "      <td>0.022949</td>\n",
       "      <td>0.167480</td>\n",
       "      <td>-4.140000e-16</td>\n",
       "      <td>1</td>\n",
       "      <td>-15.223845</td>\n",
       "      <td>23.321770</td>\n",
       "      <td>0</td>\n",
       "      <td>11.181970</td>\n",
       "      <td>1</td>\n",
       "      <td>Baalondu Nandana (valachi varnam 2)_shortened.wav</td>\n",
       "    </tr>\n",
       "  </tbody>\n",
       "</table>\n",
       "<p>5 rows × 36 columns</p>\n",
       "</div>"
      ],
      "text/plain": [
       "   chroma_stft_min  chroma_stft_max  chroma_cqt_min  chroma_cqt_max  \\\n",
       "0         0.002363                1        0.037930               1   \n",
       "1         0.002700                1        0.045566               1   \n",
       "2         0.001414                1        0.044079               1   \n",
       "3         0.001354                1        0.026659               1   \n",
       "4         0.000101                1        0.013519               1   \n",
       "\n",
       "   chroma_cens_min  chroma_cens_max  melspectogram_min  melspectogram_max  \\\n",
       "0              0.0         0.728315       1.670000e-08          586.00885   \n",
       "1              0.0         0.759315       7.530000e-11          977.43005   \n",
       "2              0.0         0.679270       6.410000e-09          568.66420   \n",
       "3              0.0         0.873235       1.110000e-08         1504.75660   \n",
       "4              0.0         0.828410       1.690000e-10          948.40400   \n",
       "\n",
       "    mfcc_min   mfcc_max  ...  zero_crossing_rate_min  zero_crossing_rate_max  \\\n",
       "0 -356.02954  151.45206  ...                0.038574                0.250000   \n",
       "1 -335.37494  254.50607  ...                0.022461                0.120117   \n",
       "2 -293.80838  198.69958  ...                0.030273                0.145508   \n",
       "3 -259.55872  153.21075  ...                0.023438                0.637695   \n",
       "4 -506.98685  249.32812  ...                0.022949                0.167480   \n",
       "\n",
       "   tempogram_min  tempogram_max  delta_mfcc_min  delta_mfcc_max  \\\n",
       "0  -2.910000e-16              1      -25.383160       33.407772   \n",
       "1  -4.690000e-16              1      -11.061906       18.780472   \n",
       "2  -3.300000e-16              1      -19.549503       23.144491   \n",
       "3  -3.180000e-16              1      -25.631940       25.046516   \n",
       "4  -4.140000e-16              1      -15.223845       23.321770   \n",
       "\n",
       "   mel_to_stft_min  mel_to_stft_max  class  \\\n",
       "0                0        10.061595      1   \n",
       "1                0        11.523597      1   \n",
       "2                0        10.311871      1   \n",
       "3                0        12.819838      1   \n",
       "4                0        11.181970      1   \n",
       "\n",
       "                                                song  \n",
       "0  Aravindha Padhamalar(Sanjay) (padhamalarsanjay...  \n",
       "1                          Concord (1)_shortened.wav  \n",
       "2                 Antakaana Dootharige_shortened.wav  \n",
       "3                    Anila Tharala (2)_shortened.wav  \n",
       "4  Baalondu Nandana (valachi varnam 2)_shortened.wav  \n",
       "\n",
       "[5 rows x 36 columns]"
      ]
     },
     "execution_count": 233,
     "metadata": {},
     "output_type": "execute_result"
    }
   ],
   "source": [
    "df_og.head()"
   ]
  },
  {
   "cell_type": "code",
   "execution_count": 234,
   "metadata": {},
   "outputs": [],
   "source": [
    "# Dropping text values (we'll be using them in another approach).\n",
    "df = df_og.drop([\"song\",\"mfcc_min\",\"mfcc_max\",\"spectral_centroid_max\",\"spectral_contrast_min\",\"spectral_contrast_max\",\"delta_mfcc_min\",\"delta_mfcc_max\"],axis=1)"
   ]
  },
  {
   "cell_type": "code",
   "execution_count": 235,
   "metadata": {},
   "outputs": [],
   "source": [
    "df_numpy = df.to_numpy()"
   ]
  },
  {
   "cell_type": "code",
   "execution_count": 236,
   "metadata": {},
   "outputs": [
    {
     "data": {
      "text/plain": [
       "(199, 28)"
      ]
     },
     "execution_count": 236,
     "metadata": {},
     "output_type": "execute_result"
    }
   ],
   "source": [
    "df_numpy.shape"
   ]
  },
  {
   "cell_type": "code",
   "execution_count": 237,
   "metadata": {},
   "outputs": [],
   "source": [
    "from sklearn.metrics.pairwise import cosine_similarity\n",
    "# Finding the cosine distance of every record with every other record in the dataset.\n",
    "cosine_sim = cosine_similarity(df_numpy,df_numpy)"
   ]
  },
  {
   "cell_type": "code",
   "execution_count": 238,
   "metadata": {},
   "outputs": [
    {
     "data": {
      "text/plain": [
       "(199, 199)"
      ]
     },
     "execution_count": 238,
     "metadata": {},
     "output_type": "execute_result"
    }
   ],
   "source": [
    "cosine_sim.shape"
   ]
  },
  {
   "cell_type": "code",
   "execution_count": 240,
   "metadata": {},
   "outputs": [
    {
     "data": {
      "text/plain": [
       "chroma_stft_min                                            0.00170837\n",
       "chroma_stft_max                                                     1\n",
       "chroma_cqt_min                                              0.0429871\n",
       "chroma_cqt_max                                                      1\n",
       "chroma_cens_min                                                     0\n",
       "chroma_cens_max                                               0.71238\n",
       "melspectogram_min                                             2.4e-08\n",
       "melspectogram_max                                             2598.47\n",
       "mfcc_min                                                     -251.097\n",
       "mfcc_max                                                      176.392\n",
       "rms_min                                                     0.0423497\n",
       "rms_max                                                      0.440322\n",
       "spectral_centroid_min                                         1012.67\n",
       "spectral_centroid_max                                          3480.2\n",
       "spectral_bandwidth_min                                        1161.25\n",
       "spectral_bandwidth_max                                        2668.34\n",
       "spectral_contrast_min                                         5.23546\n",
       "spectral_contrast_max                                         48.4343\n",
       "spectral_flatness_min                                     0.000154188\n",
       "spectral_flatness_max                                        0.118114\n",
       "spectral_rolloff_min                                          1701.12\n",
       "spectral_rolloff_max                                          6858.33\n",
       "poly_features_min                                            0.269206\n",
       "poly_features_max                                             6.09443\n",
       "tonnetz_min                                                 -0.403669\n",
       "tonnetz_max                                                  0.375824\n",
       "zero_crossing_rate_min                                      0.0454102\n",
       "zero_crossing_rate_max                                       0.214355\n",
       "tempogram_min                                               -2.95e-16\n",
       "tempogram_max                                                       1\n",
       "delta_mfcc_min                                               -32.5158\n",
       "delta_mfcc_max                                                33.9852\n",
       "mel_to_stft_min                                                     0\n",
       "mel_to_stft_max                                               14.4378\n",
       "class                                                               1\n",
       "song                      Deva Deva (Neyveli) (neyveli)_shortened.wav\n",
       "Name: 14, dtype: object"
      ]
     },
     "execution_count": 240,
     "metadata": {},
     "output_type": "execute_result"
    }
   ],
   "source": [
    "df_og.iloc[14]"
   ]
  },
  {
   "cell_type": "code",
   "execution_count": 241,
   "metadata": {},
   "outputs": [],
   "source": [
    "# Sorting the cosine distances of the input song with other songs in the ascending order. \n",
    "score_series = pd.Series(cosine_sim[14]).sort_values(ascending=False)"
   ]
  },
  {
   "cell_type": "code",
   "execution_count": 242,
   "metadata": {},
   "outputs": [],
   "source": [
    "# Selecting indices of 5 songs which are closest to the input song.\n",
    "top_5_indexes = list(score_series.iloc[1:6].index)"
   ]
  },
  {
   "cell_type": "code",
   "execution_count": 243,
   "metadata": {},
   "outputs": [
    {
     "data": {
      "text/plain": [
       "[134, 36, 159, 155, 31]"
      ]
     },
     "execution_count": 243,
     "metadata": {},
     "output_type": "execute_result"
    }
   ],
   "source": [
    "top_5_indexes"
   ]
  },
  {
   "cell_type": "code",
   "execution_count": 244,
   "metadata": {},
   "outputs": [],
   "source": [
    "# Deriving the names of the recommended songs from the original dataset.\n",
    "recommended_songs = []\n",
    "for i in top_5_indexes:\n",
    "        recommended_songs.append((list(df_og.song)[i]))"
   ]
  },
  {
   "cell_type": "code",
   "execution_count": 245,
   "metadata": {},
   "outputs": [
    {
     "data": {
      "text/plain": [
       "['Dolayam (raga khamas m s subbulakshmi)_shortened.wav',\n",
       " 'Dhyaname_shortened.wav',\n",
       " 'Baageshwari - Alaap Vilambit Drut And Jhala - Dr Kamala Shankar_shortened.wav',\n",
       " 'Ee Pariya_shortened.wav',\n",
       " 'Dachu Kovalena (kovalana b n suresh)_shortened.wav']"
      ]
     },
     "execution_count": 245,
     "metadata": {},
     "output_type": "execute_result"
    }
   ],
   "source": [
    "# Printing the recommended songs.\n",
    "recommended_songs"
   ]
  },
  {
   "cell_type": "code",
   "execution_count": null,
   "metadata": {},
   "outputs": [],
   "source": []
  }
 ],
 "metadata": {
  "kernelspec": {
   "display_name": "Python 3",
   "language": "python",
   "name": "python3"
  },
  "language_info": {
   "codemirror_mode": {
    "name": "ipython",
    "version": 3
   },
   "file_extension": ".py",
   "mimetype": "text/x-python",
   "name": "python",
   "nbconvert_exporter": "python",
   "pygments_lexer": "ipython3",
   "version": "3.8.5"
  }
 },
 "nbformat": 4,
 "nbformat_minor": 4
}
