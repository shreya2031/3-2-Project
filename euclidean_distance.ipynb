{
 "cells": [
  {
   "cell_type": "code",
   "execution_count": 234,
   "metadata": {},
   "outputs": [],
   "source": [
    "import pandas\n",
    "import math\n",
    "import sys\n",
    "import numpy as np"
   ]
  },
  {
   "cell_type": "code",
   "execution_count": 235,
   "metadata": {},
   "outputs": [],
   "source": [
    "with open('C:/Users/Sahithi Venkatesan/Downloads/Genre4.csv', 'r') as csvfile:\n",
    "    music = pandas.read_csv(csvfile)"
   ]
  },
  {
   "cell_type": "code",
   "execution_count": 236,
   "metadata": {},
   "outputs": [
    {
     "name": "stdout",
     "output_type": "stream",
     "text": [
      "['chroma_stft_min' 'chroma_stft_max' 'chroma_cqt_min' 'chroma_cqt_max'\n",
      " 'chroma_cens_min' 'chroma_cens_max' 'melspectogram_min'\n",
      " 'melspectogram_max' 'mfcc_min' 'mfcc_max' 'rms_min' 'rms_max'\n",
      " 'spectral_centroid_min' 'spectral_centroid_max' 'spectral_bandwidth_min'\n",
      " 'spectral_bandwidth_max' 'spectral_contrast_min' 'spectral_contrast_max'\n",
      " 'spectral_flatness_min' 'spectral_flatness_max' 'spectral_rolloff_min'\n",
      " 'spectral_rolloff_max' 'poly_features_min' 'poly_features_max'\n",
      " 'tonnetz_min' 'tonnetz_max' 'zero_crossing_rate_min'\n",
      " 'zero_crossing_rate_max' 'tempogram_min' 'tempogram_max' 'delta_mfcc_min'\n",
      " 'delta_mfcc_max' 'mel_to_stft_min' 'mel_to_stft_max' 'class' 'song']\n"
     ]
    }
   ],
   "source": [
    "print(music.columns.values)"
   ]
  },
  {
   "cell_type": "code",
   "execution_count": 237,
   "metadata": {},
   "outputs": [],
   "source": [
    "# Select a song from our dataset\n",
    "selected_player = music[music[\"song\"] == \"Bhuvaneshwari (Sowmya) (sowmya)_shortened.wav\"].iloc[0]"
   ]
  },
  {
   "cell_type": "code",
   "execution_count": 238,
   "metadata": {},
   "outputs": [
    {
     "name": "stdout",
     "output_type": "stream",
     "text": [
      "chroma_stft_min                                              0.00010296\n",
      "chroma_stft_max                                                       1\n",
      "chroma_cqt_min                                               0.00919081\n",
      "chroma_cqt_max                                                        1\n",
      "chroma_cens_min                                                       0\n",
      "chroma_cens_max                                                0.847298\n",
      "melspectogram_min                                              1.19e-09\n",
      "melspectogram_max                                               485.072\n",
      "mfcc_min                                                       -388.263\n",
      "mfcc_max                                                        194.177\n",
      "rms_min                                                       0.0136153\n",
      "rms_max                                                        0.149264\n",
      "spectral_centroid_min                                           884.247\n",
      "spectral_centroid_max                                           2481.64\n",
      "spectral_bandwidth_min                                          931.106\n",
      "spectral_bandwidth_max                                           2472.8\n",
      "spectral_contrast_min                                           2.89385\n",
      "spectral_contrast_max                                           50.4789\n",
      "spectral_flatness_min                                          1.22e-05\n",
      "spectral_flatness_max                                         0.0196715\n",
      "spectral_rolloff_min                                            1604.22\n",
      "spectral_rolloff_max                                            6050.83\n",
      "poly_features_min                                             0.0835789\n",
      "poly_features_max                                              0.866953\n",
      "tonnetz_min                                                   -0.594219\n",
      "tonnetz_max                                                    0.713471\n",
      "zero_crossing_rate_min                                        0.0283203\n",
      "zero_crossing_rate_max                                         0.169922\n",
      "tempogram_min                                                 -3.33e-16\n",
      "tempogram_max                                                         1\n",
      "delta_mfcc_min                                                 -13.1467\n",
      "delta_mfcc_max                                                  23.1452\n",
      "mel_to_stft_min                                                       0\n",
      "mel_to_stft_max                                                 10.3259\n",
      "class                                                                 1\n",
      "song                      Bhuvaneshwari (Sowmya) (sowmya)_shortened.wav\n",
      "Name: 65, dtype: object\n"
     ]
    }
   ],
   "source": [
    "print(selected_player)"
   ]
  },
  {
   "cell_type": "code",
   "execution_count": 239,
   "metadata": {},
   "outputs": [],
   "source": [
    "distance_columns = [\"mfcc_min\",\"mfcc_max\",\"spectral_centroid_max\", \"chroma_cqt_min\",\"zero_crossing_rate_max\",\"tonnetz_max\",\"poly_features_max\",\"poly_features_min\",\"spectral_rolloff_max\",\"spectral_bandwidth_max\",\"spectral_bandwidth_min\",\"rms_min\",\"melspectogram_max\"]"
   ]
  },
  {
   "cell_type": "code",
   "execution_count": 240,
   "metadata": {},
   "outputs": [
    {
     "data": {
      "text/plain": [
       "['mfcc_min',\n",
       " 'mfcc_max',\n",
       " 'spectral_centroid_max',\n",
       " 'chroma_cqt_min',\n",
       " 'zero_crossing_rate_max',\n",
       " 'tonnetz_max',\n",
       " 'poly_features_max',\n",
       " 'poly_features_min',\n",
       " 'spectral_rolloff_max',\n",
       " 'spectral_bandwidth_max',\n",
       " 'spectral_bandwidth_min',\n",
       " 'rms_min',\n",
       " 'melspectogram_max']"
      ]
     },
     "execution_count": 240,
     "metadata": {},
     "output_type": "execute_result"
    }
   ],
   "source": [
    "distance_columns"
   ]
  },
  {
   "cell_type": "code",
   "execution_count": 241,
   "metadata": {},
   "outputs": [],
   "source": [
    "def euclidean_distance(row):\n",
    "    \"\"\"\n",
    "    A simple euclidean distance function\n",
    "    \"\"\"\n",
    "    inner_value = 0\n",
    "    for k in distance_columns:\n",
    "        inner_value += (row[k] - selected_player[k]) ** 2\n",
    "    return math.sqrt(inner_value)"
   ]
  },
  {
   "cell_type": "code",
   "execution_count": 242,
   "metadata": {},
   "outputs": [],
   "source": [
    "# Select only the numeric columns from the music dataset\n",
    "music_numeric = music[distance_columns]"
   ]
  },
  {
   "cell_type": "code",
   "execution_count": 243,
   "metadata": {},
   "outputs": [
    {
     "name": "stdout",
     "output_type": "stream",
     "text": [
      "      mfcc_min   mfcc_max  spectral_centroid_max  chroma_cqt_min  \\\n",
      "0   -283.92090  263.15417            1217.184292        0.043545   \n",
      "1   -553.02270  241.12085            1746.179952        0.006065   \n",
      "2   -277.51556  149.17160            3716.691873        0.063493   \n",
      "3   -203.72983  232.92674            1634.882895        0.031387   \n",
      "4   -323.80377  229.72809            1717.694022        0.031451   \n",
      "..         ...        ...                    ...             ...   \n",
      "196 -306.25440  187.06265            3327.232257        0.028055   \n",
      "197 -410.89273  212.16898            2844.794063        0.017626   \n",
      "198 -256.71185  192.85239            2284.776272        0.034545   \n",
      "199 -331.19373  188.38266            2333.208093        0.021130   \n",
      "200 -443.23648  218.42844            1870.799438        0.006231   \n",
      "\n",
      "     zero_crossing_rate_max  tonnetz_max  poly_features_max  \\\n",
      "0                  0.129883     0.442848           2.390342   \n",
      "1                  0.213867     0.617700           1.079322   \n",
      "2                  0.282227     0.243996           1.539212   \n",
      "3                  0.153809     0.521337           3.358642   \n",
      "4                  0.144531     0.445999           1.736054   \n",
      "..                      ...          ...                ...   \n",
      "196                0.236328     0.481106           2.061521   \n",
      "197                0.222656     0.593005           2.042985   \n",
      "198                0.137207     0.477481           1.354897   \n",
      "199                0.167480     0.542097           1.056325   \n",
      "200                0.175781     0.761351           1.354433   \n",
      "\n",
      "     poly_features_min  spectral_rolloff_max  spectral_bandwidth_max  \\\n",
      "0             0.266082           1841.088867             1143.807373   \n",
      "1             0.002439           2680.883789             1974.742107   \n",
      "2             0.146028           6696.826172             2887.851091   \n",
      "3             0.820632           3068.481445             1159.312766   \n",
      "4             0.154557           2314.819336             2130.602629   \n",
      "..                 ...                   ...                     ...   \n",
      "196           0.180446           5383.300781             2153.541270   \n",
      "197           0.043280           5792.431641             2731.971185   \n",
      "198           0.213956           4392.773438             2325.345877   \n",
      "199           0.125513           4941.870117             2750.699021   \n",
      "200           0.047313           2842.382813             1155.272540   \n",
      "\n",
      "     spectral_bandwidth_min   rms_min  melspectogram_max  \n",
      "0                407.963235  0.043836         2618.75120  \n",
      "1                377.181812  0.000232         1021.38727  \n",
      "2               1682.720900  0.015048          291.12680  \n",
      "3                697.686601  0.114315         2548.03800  \n",
      "4                719.238097  0.021969          976.97480  \n",
      "..                      ...       ...                ...  \n",
      "196             1091.250420  0.029969          631.09344  \n",
      "197              866.672340  0.006320          622.64110  \n",
      "198             1162.248856  0.024015          570.54266  \n",
      "199             1212.476000  0.017013          875.50380  \n",
      "200              676.918123  0.008210          509.74040  \n",
      "\n",
      "[201 rows x 13 columns]\n"
     ]
    }
   ],
   "source": [
    "print(music_numeric)"
   ]
  },
  {
   "cell_type": "code",
   "execution_count": 244,
   "metadata": {},
   "outputs": [],
   "source": [
    "# Normalize all of the numeric columns\n",
    "music_normalized = (music_numeric - music_numeric.mean()) / music_numeric.std()"
   ]
  },
  {
   "cell_type": "code",
   "execution_count": 245,
   "metadata": {},
   "outputs": [
    {
     "name": "stdout",
     "output_type": "stream",
     "text": [
      "     mfcc_min  mfcc_max  spectral_centroid_max  chroma_cqt_min  \\\n",
      "0    0.836158  1.660321              -1.242631        0.878541   \n",
      "1   -2.692360  1.116383              -0.874261       -1.395602   \n",
      "2    0.920146 -1.153572               0.497918        2.088857   \n",
      "3    1.887640  0.914095              -0.951763        0.140859   \n",
      "4    0.313206  0.835129              -0.894097        0.144714   \n",
      "..        ...       ...                    ...             ...   \n",
      "196  0.543317 -0.218154               0.226715       -0.061345   \n",
      "197 -0.828722  0.401647              -0.109234       -0.694105   \n",
      "198  1.192929 -0.075222              -0.499206        0.332456   \n",
      "199  0.216307 -0.185567              -0.465480       -0.481490   \n",
      "200 -1.252820  0.556175              -0.787481       -1.385541   \n",
      "\n",
      "     zero_crossing_rate_max  tonnetz_max  poly_features_max  \\\n",
      "0                 -0.804659    -0.575028           0.378307   \n",
      "1                 -0.007608     0.917576          -0.840409   \n",
      "2                  0.641154    -2.272499          -0.412898   \n",
      "3                 -0.577592     0.094985           1.278434   \n",
      "4                 -0.665638    -0.548131          -0.229915   \n",
      "..                      ...          ...                ...   \n",
      "196                0.205557    -0.248441           0.072637   \n",
      "197                0.075804     0.706764           0.055407   \n",
      "198               -0.735148    -0.279384          -0.584237   \n",
      "199               -0.447839     0.272202          -0.861787   \n",
      "200               -0.369061     2.143830          -0.584668   \n",
      "\n",
      "     poly_features_min  spectral_rolloff_max  spectral_bandwidth_max  \\\n",
      "0             1.125031             -1.444706               -1.533347   \n",
      "1            -1.133011             -1.114472               -0.532398   \n",
      "2             0.096800              0.464725                0.567539   \n",
      "3             5.874631             -0.962056               -1.514669   \n",
      "4             0.169846             -1.258420               -0.344647   \n",
      "..                 ...                   ...                     ...   \n",
      "196           0.391582             -0.051795               -0.317015   \n",
      "197          -0.783218              0.109088                0.379765   \n",
      "198           0.678588             -0.441302               -0.110058   \n",
      "199          -0.078912             -0.225380                0.402325   \n",
      "200          -0.748677             -1.050965               -1.519536   \n",
      "\n",
      "     spectral_bandwidth_min   rms_min  melspectogram_max  \n",
      "0                 -1.604892  1.818828           1.567828  \n",
      "1                 -1.686832 -1.165564          -0.061565  \n",
      "2                  1.788515 -0.151495          -0.806469  \n",
      "3                 -0.833648  6.642668           1.495697  \n",
      "4                 -0.776278  0.322186          -0.106868  \n",
      "..                      ...       ...                ...  \n",
      "196                0.214019  0.869760          -0.459685  \n",
      "197               -0.383808 -0.748864          -0.468307  \n",
      "198                0.403017  0.462185          -0.521450  \n",
      "199                0.536722 -0.016997          -0.210374  \n",
      "200               -0.888934 -0.619503          -0.583472  \n",
      "\n",
      "[201 rows x 13 columns]\n"
     ]
    }
   ],
   "source": [
    "print(music_normalized)"
   ]
  },
  {
   "cell_type": "code",
   "execution_count": 246,
   "metadata": {},
   "outputs": [],
   "source": [
    "from scipy.spatial import distance"
   ]
  },
  {
   "cell_type": "code",
   "execution_count": 247,
   "metadata": {},
   "outputs": [],
   "source": [
    "# Fill in NA values in music_normalized\n",
    "music_normalized.fillna(0, inplace=True)"
   ]
  },
  {
   "cell_type": "code",
   "execution_count": 248,
   "metadata": {},
   "outputs": [],
   "source": [
    "# Find the normalized vector for ilayaraaja .\n",
    "ilayaraaja_normalized = music_normalized[music[\"song\"] == \"Bhuvaneshwari (Sowmya) (sowmya)_shortened.wav\"]"
   ]
  },
  {
   "cell_type": "code",
   "execution_count": 249,
   "metadata": {},
   "outputs": [
    {
     "data": {
      "text/html": [
       "<div>\n",
       "<style scoped>\n",
       "    .dataframe tbody tr th:only-of-type {\n",
       "        vertical-align: middle;\n",
       "    }\n",
       "\n",
       "    .dataframe tbody tr th {\n",
       "        vertical-align: top;\n",
       "    }\n",
       "\n",
       "    .dataframe thead th {\n",
       "        text-align: right;\n",
       "    }\n",
       "</style>\n",
       "<table border=\"1\" class=\"dataframe\">\n",
       "  <thead>\n",
       "    <tr style=\"text-align: right;\">\n",
       "      <th></th>\n",
       "      <th>mfcc_min</th>\n",
       "      <th>mfcc_max</th>\n",
       "      <th>spectral_centroid_max</th>\n",
       "      <th>chroma_cqt_min</th>\n",
       "      <th>zero_crossing_rate_max</th>\n",
       "      <th>tonnetz_max</th>\n",
       "      <th>poly_features_max</th>\n",
       "      <th>poly_features_min</th>\n",
       "      <th>spectral_rolloff_max</th>\n",
       "      <th>spectral_bandwidth_max</th>\n",
       "      <th>spectral_bandwidth_min</th>\n",
       "      <th>rms_min</th>\n",
       "      <th>melspectogram_max</th>\n",
       "    </tr>\n",
       "  </thead>\n",
       "  <tbody>\n",
       "    <tr>\n",
       "      <th>65</th>\n",
       "      <td>-0.531994</td>\n",
       "      <td>-0.04253</td>\n",
       "      <td>-0.362121</td>\n",
       "      <td>-1.205929</td>\n",
       "      <td>-0.424669</td>\n",
       "      <td>1.735109</td>\n",
       "      <td>-1.037827</td>\n",
       "      <td>-0.438065</td>\n",
       "      <td>0.210699</td>\n",
       "      <td>0.067561</td>\n",
       "      <td>-0.212284</td>\n",
       "      <td>-0.249579</td>\n",
       "      <td>-0.608635</td>\n",
       "    </tr>\n",
       "  </tbody>\n",
       "</table>\n",
       "</div>"
      ],
      "text/plain": [
       "    mfcc_min  mfcc_max  spectral_centroid_max  chroma_cqt_min  \\\n",
       "65 -0.531994  -0.04253              -0.362121       -1.205929   \n",
       "\n",
       "    zero_crossing_rate_max  tonnetz_max  poly_features_max  poly_features_min  \\\n",
       "65               -0.424669     1.735109          -1.037827          -0.438065   \n",
       "\n",
       "    spectral_rolloff_max  spectral_bandwidth_max  spectral_bandwidth_min  \\\n",
       "65              0.210699                0.067561               -0.212284   \n",
       "\n",
       "     rms_min  melspectogram_max  \n",
       "65 -0.249579          -0.608635  "
      ]
     },
     "execution_count": 249,
     "metadata": {},
     "output_type": "execute_result"
    }
   ],
   "source": [
    "ilayaraaja_normalized"
   ]
  },
  {
   "cell_type": "code",
   "execution_count": 250,
   "metadata": {},
   "outputs": [],
   "source": [
    "# Find the distance between ilayaraaja and everyone else.\n",
    "euclidean_distances = music_normalized.apply(lambda row: distance.euclidean(row, ilayaraaja_normalized), axis=1)"
   ]
  },
  {
   "cell_type": "code",
   "execution_count": 251,
   "metadata": {},
   "outputs": [
    {
     "name": "stdout",
     "output_type": "stream",
     "text": [
      "0       6.006631\n",
      "1       3.619583\n",
      "2       6.097408\n",
      "3      10.632782\n",
      "4       3.620831\n",
      "         ...    \n",
      "196     3.281872\n",
      "197     1.907802\n",
      "198     3.509779\n",
      "199     2.119545\n",
      "200     2.503839\n",
      "Length: 201, dtype: float64\n"
     ]
    }
   ],
   "source": [
    "print(euclidean_distances)"
   ]
  },
  {
   "cell_type": "code",
   "execution_count": 252,
   "metadata": {},
   "outputs": [
    {
     "name": "stdout",
     "output_type": "stream",
     "text": [
      "          dist  idx\n",
      "0     6.006631    0\n",
      "1     3.619583    1\n",
      "2     6.097408    2\n",
      "3    10.632782    3\n",
      "4     3.620831    4\n",
      "..         ...  ...\n",
      "196   3.281872  196\n",
      "197   1.907802  197\n",
      "198   3.509779  198\n",
      "199   2.119545  199\n",
      "200   2.503839  200\n",
      "\n",
      "[201 rows x 2 columns]\n"
     ]
    }
   ],
   "source": [
    "# Create a new dataframe with distances.\n",
    "distance_frame = pandas.DataFrame(data={\"dist\": euclidean_distances, \"idx\": euclidean_distances.index})\n",
    "print(distance_frame)"
   ]
  },
  {
   "cell_type": "code",
   "execution_count": 253,
   "metadata": {},
   "outputs": [],
   "source": [
    "distance_frame.sort_values(by=[\"dist\"], inplace=True)"
   ]
  },
  {
   "cell_type": "code",
   "execution_count": 254,
   "metadata": {},
   "outputs": [],
   "source": [
    "# Find the most similar player to ilayaraaja (the lowest distance to ilayaraaja is ilayaraaja, the second smallest is the most similar non-ilayaraaja player)\n",
    "second_smallest = distance_frame.iloc[1][\"idx\"]\n",
    "third_smallest = distance_frame.iloc[2][\"idx\"]\n",
    "fourth_smallest = distance_frame.iloc[3][\"idx\"]\n",
    "fifth_smallest = distance_frame.iloc[4][\"idx\"]\n",
    "sixth_smallest = distance_frame.iloc[5][\"idx\"]"
   ]
  },
  {
   "cell_type": "code",
   "execution_count": 255,
   "metadata": {},
   "outputs": [],
   "source": [
    "most_similar_1 = music.loc[int(second_smallest)][\"song\"]\n",
    "most_similar_2 = music.loc[int(third_smallest)][\"song\"]\n",
    "most_similar_3 = music.loc[int(fourth_smallest)][\"song\"]\n",
    "most_similar_4 = music.loc[int(fifth_smallest)][\"song\"]\n",
    "most_similar_5 = music.loc[int(sixth_smallest)][\"song\"]"
   ]
  },
  {
   "cell_type": "code",
   "execution_count": 256,
   "metadata": {},
   "outputs": [
    {
     "name": "stdout",
     "output_type": "stream",
     "text": [
      "Alhaiya Bilawal - Teentaal (alahiya  ustad vilayat khan)_shortened.wav\n",
      "Balma Na Jaao - Pt Basavraj Rajguru (1)_shortened.wav\n",
      "Alaap Gats (alap and gat 7)_shortened.wav\n",
      "Bhoopali - Mohonam - Gat - Pthari Prasad Chaurasia And Drmbalamuralikrishnan (pt hari)_shortened.wav\n",
      "Chaiti - Achhan Bai (1908)_shortened.wav\n"
     ]
    }
   ],
   "source": [
    "print(most_similar_1)\n",
    "print(most_similar_2)\n",
    "print(most_similar_3)\n",
    "print(most_similar_4)\n",
    "print(most_similar_5)"
   ]
  },
  {
   "cell_type": "code",
   "execution_count": null,
   "metadata": {},
   "outputs": [],
   "source": []
  }
 ],
 "metadata": {
  "kernelspec": {
   "display_name": "Python 3",
   "language": "python",
   "name": "python3"
  },
  "language_info": {
   "codemirror_mode": {
    "name": "ipython",
    "version": 3
   },
   "file_extension": ".py",
   "mimetype": "text/x-python",
   "name": "python",
   "nbconvert_exporter": "python",
   "pygments_lexer": "ipython3",
   "version": "3.8.5"
  }
 },
 "nbformat": 4,
 "nbformat_minor": 4
}
