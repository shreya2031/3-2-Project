{
 "cells": [
  {
   "cell_type": "code",
   "execution_count": 25,
   "metadata": {},
   "outputs": [],
   "source": [
    "import warnings\n",
    "warnings.filterwarnings('ignore')\n",
    "import librosa\n",
    "from csv import writer\n",
    "import numpy as np\n",
    "import glob\n",
    "import pandas as pd\n",
    "import matplotlib.pyplot as plt\n",
    "import librosa.display"
   ]
  },
  {
   "cell_type": "code",
   "execution_count": 11,
   "metadata": {},
   "outputs": [],
   "source": [
    "def feature_extraction(song):\n",
    "    for n in list(song):\n",
    "        y,sr = librosa.load(n)\n",
    "        S1 = np.abs(librosa.stft(y))\n",
    "        S2,phase = librosa.magphase(librosa.stft(y))\n",
    "        S3 = np.abs(librosa.stft(y))\n",
    "        hop_length = 512\n",
    "        oenv = librosa.onset.onset_strength(y=y, sr=sr, hop_length=hop_length)\n",
    "        mfcc = librosa.feature.mfcc(y=y, sr=sr)\n",
    "        S4 = np.abs(librosa.stft(y))\n",
    "        mel_spec = librosa.feature.melspectrogram(S=S4, sr=sr)\n",
    "        arr = [\n",
    "            librosa.feature.chroma_stft(y=y, sr=sr).min(),\n",
    "            librosa.feature.chroma_stft(y=y, sr=sr).max(),\n",
    "            librosa.feature.chroma_cqt(y=y, sr=sr).min(),\n",
    "            librosa.feature.chroma_cqt(y=y, sr=sr).max(),\n",
    "            librosa.feature.chroma_cens(y=y, sr=sr).min(),\n",
    "            librosa.feature.chroma_cens(y=y, sr=sr).max(),\n",
    "            librosa.feature.melspectrogram(y=y, sr=sr).min(),\n",
    "            librosa.feature.melspectrogram(y=y, sr=sr).max(),\n",
    "            librosa.feature.mfcc(y=y, sr=sr).min(),\n",
    "            librosa.feature.mfcc(y=y, sr=sr).max(),\n",
    "            librosa.feature.rms(y=y).min(),\n",
    "            librosa.feature.rms(y=y).max(),\n",
    "            librosa.feature.spectral_centroid(y=y, sr=sr).min(),\n",
    "            librosa.feature.spectral_centroid(y=y, sr=sr).max(),\n",
    "            librosa.feature.spectral_bandwidth(y=y, sr=sr).min(),\n",
    "            librosa.feature.spectral_bandwidth(y=y, sr=sr).max(),\n",
    "            librosa.feature.spectral_contrast(S=S1, sr=sr).min(),\n",
    "            librosa.feature.spectral_contrast(S=S1, sr=sr).max(),\n",
    "            librosa.feature.spectral_flatness(y=y).min(),\n",
    "            librosa.feature.spectral_flatness(y=y).max(),\n",
    "            librosa.feature.spectral_rolloff(S=S2, sr=sr).min(),\n",
    "            librosa.feature.spectral_rolloff(S=S2, sr=sr).max(),\n",
    "            librosa.feature.poly_features(S=S3, order=0).min(),\n",
    "            librosa.feature.poly_features(S=S3, order=0).max(),\n",
    "            librosa.feature.tonnetz(y=y, sr=sr).min(),\n",
    "            librosa.feature.tonnetz(y=y, sr=sr).max(),\n",
    "            librosa.feature.zero_crossing_rate(y).min(),\n",
    "            librosa.feature.zero_crossing_rate(y).max(),\n",
    "            librosa.feature.tempogram(onset_envelope=oenv, sr=sr,hop_length=hop_length).min(),\n",
    "            librosa.feature.tempogram(onset_envelope=oenv, sr=sr,hop_length=hop_length).max(),\n",
    "            librosa.feature.delta(mfcc).min(),\n",
    "            librosa.feature.delta(mfcc).max(),\n",
    "            librosa.feature.inverse.mel_to_stft(mel_spec, sr=sr).min(),\n",
    "            librosa.feature.inverse.mel_to_stft(mel_spec, sr=sr).max()\n",
    "        ]\n",
    "        #print(librosa.feature.mfcc(y=y, sr=sr).max())\n",
    "        with open('C:/Users/RAJENDRA REDDY/Downloads/3-2 project/features.csv', 'a') as f_object:\n",
    "            # Pass this file object to csv.writer()\n",
    "            # and get a writer object\n",
    "            writer_object = writer(f_object)\n",
    "\n",
    "            # Pass the list as an argument into\n",
    "            # the writerow()\n",
    "            writer_object.writerow(arr)\n",
    "\n",
    "            #Close the file object\n",
    "            f_object.close()\n",
    "        "
   ]
  },
  {
   "cell_type": "code",
   "execution_count": 12,
   "metadata": {},
   "outputs": [],
   "source": [
    "a = glob.glob(\"C:/Users/RAJENDRA REDDY/Downloads/3-2 project/songs_data1/*.wav\")\n",
    "feature_extraction(a)"
   ]
  },
  {
   "cell_type": "code",
   "execution_count": 14,
   "metadata": {},
   "outputs": [
    {
     "data": {
      "text/html": [
       "<div>\n",
       "<style scoped>\n",
       "    .dataframe tbody tr th:only-of-type {\n",
       "        vertical-align: middle;\n",
       "    }\n",
       "\n",
       "    .dataframe tbody tr th {\n",
       "        vertical-align: top;\n",
       "    }\n",
       "\n",
       "    .dataframe thead th {\n",
       "        text-align: right;\n",
       "    }\n",
       "</style>\n",
       "<table border=\"1\" class=\"dataframe\">\n",
       "  <thead>\n",
       "    <tr style=\"text-align: right;\">\n",
       "      <th></th>\n",
       "      <th>0.0012960905</th>\n",
       "      <th>1.0</th>\n",
       "      <th>0.03315357</th>\n",
       "      <th>1.0.1</th>\n",
       "      <th>0.003513688288061914</th>\n",
       "      <th>0.7395808176527056</th>\n",
       "      <th>8.889039e-06</th>\n",
       "      <th>6547.407</th>\n",
       "      <th>-162.60739</th>\n",
       "      <th>148.07231</th>\n",
       "      <th>...</th>\n",
       "      <th>-0.47224676422774836</th>\n",
       "      <th>0.5729061458429197</th>\n",
       "      <th>0.02001953125</th>\n",
       "      <th>0.30517578125</th>\n",
       "      <th>-2.8539087319700844e-16</th>\n",
       "      <th>1.0.2</th>\n",
       "      <th>-27.087835</th>\n",
       "      <th>25.198893</th>\n",
       "      <th>0.0</th>\n",
       "      <th>18.772789</th>\n",
       "    </tr>\n",
       "  </thead>\n",
       "  <tbody>\n",
       "  </tbody>\n",
       "</table>\n",
       "<p>0 rows × 34 columns</p>\n",
       "</div>"
      ],
      "text/plain": [
       "Empty DataFrame\n",
       "Columns: [0.0012960905, 1.0, 0.03315357, 1.0.1, 0.003513688288061914, 0.7395808176527056, 8.889039e-06, 6547.407, -162.60739, 148.07231, 0.046069413, 0.5618092, 1221.5292728800368, 4570.8201628977695, 1702.3783577242007, 3664.812987941675, 4.678993518597521, 44.566600807598284, 0.0011141414, 0.2776925, 2174.853515625, 9011.6455078125, 0.49384718542989325, 9.296593440726124, -0.47224676422774836, 0.5729061458429197, 0.02001953125, 0.30517578125, -2.8539087319700844e-16, 1.0.2, -27.087835, 25.198893, 0.0, 18.772789]\n",
       "Index: []\n",
       "\n",
       "[0 rows x 34 columns]"
      ]
     },
     "execution_count": 14,
     "metadata": {},
     "output_type": "execute_result"
    }
   ],
   "source": [
    "\n",
    "pd.read_csv('C:/Users/RAJENDRA REDDY/Downloads/3-2 project/features.csv')"
   ]
  },
  {
   "cell_type": "code",
   "execution_count": 17,
   "metadata": {},
   "outputs": [],
   "source": []
  },
  {
   "cell_type": "code",
   "execution_count": null,
   "metadata": {},
   "outputs": [],
   "source": []
  },
  {
   "cell_type": "code",
   "execution_count": 35,
   "metadata": {},
   "outputs": [],
   "source": [
    "from csv import writer\n",
    "from csv import reader\n",
    "def add_column_in_csv(input_file, output_file, transform_row):\n",
    "    with open(input_file, 'r') as read_obj, \\\n",
    "            open(output_file, 'w', newline='') as write_obj:\n",
    "        \n",
    "        csv_reader = reader(read_obj)\n",
    "        csv_writer = writer(write_obj)\n",
    "        for row in csv_reader:\n",
    "            transform_row(row, csv_reader.line_num)\n",
    "            csv_writer.writerow(row)\n",
    "\n",
    "\n",
    "default_text = '1'\n",
    "# Add column with same text in all rows\n",
    "add_column_in_csv('inputfeatures.csv', 'outputfeatures.csv', lambda row, line_num: row.append(default_text))"
   ]
  },
  {
   "cell_type": "code",
   "execution_count": 36,
   "metadata": {},
   "outputs": [],
   "source": []
  },
  {
   "cell_type": "code",
   "execution_count": null,
   "metadata": {},
   "outputs": [],
   "source": []
  }
 ],
 "metadata": {
  "kernelspec": {
   "display_name": "Python 3",
   "language": "python",
   "name": "python3"
  },
  "language_info": {
   "codemirror_mode": {
    "name": "ipython",
    "version": 3
   },
   "file_extension": ".py",
   "mimetype": "text/x-python",
   "name": "python",
   "nbconvert_exporter": "python",
   "pygments_lexer": "ipython3",
   "version": "3.7.5"
  }
 },
 "nbformat": 4,
 "nbformat_minor": 4
}
